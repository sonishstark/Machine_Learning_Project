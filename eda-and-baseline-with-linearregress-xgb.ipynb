{
 "cells": [
  {
   "cell_type": "markdown",
   "id": "964c3182",
   "metadata": {
    "editable": false,
    "papermill": {
     "duration": 0.014443,
     "end_time": "2023-04-24T03:31:14.648656",
     "exception": false,
     "start_time": "2023-04-24T03:31:14.634213",
     "status": "completed"
    },
    "tags": []
   },
   "source": [
    "### <p style=\"font-family:JetBrains Mono; font-weight:bold; letter-spacing: 2px; color:#006600; font-size:140%; text-align:left;padding: 0px; border-bottom: 3px solid #003300\"> 📜 1. Overview</p>"
   ]
  },
  {
   "cell_type": "markdown",
   "id": "e1f4a210",
   "metadata": {
    "papermill": {
     "duration": 0.012921,
     "end_time": "2023-04-24T03:31:14.674499",
     "exception": false,
     "start_time": "2023-04-24T03:31:14.661578",
     "status": "completed"
    },
    "tags": []
   },
   "source": [
    "<div style=\"border-radius:10px; border:#DEB887 solid; padding: 15px; background-color: #FFFAF0; font-size:100%; text-align:left\">\n",
    "\n",
    "<h3 align=\"left\"><font color='#DEB887'>Introduction:</font></h3>\n",
    "\n",
    "* Food Mart (CFM) is a chain of convenience stores in the United States. The private company's headquarters are located in Mentor, Ohio, and currently, approximately 325 stores are located in the US. Convenient Food Mart operates on the franchise system.\n",
    "* Food Mart was the nation's third-largest chain of convenience stores as of 1988. The NASDAQ exchange dropped Convenient Food Mart the same year when the company failed to meet financial reporting requirements.\n",
    "* Carden & Cherry advertised Convenient Food Mart with the Ernest character in the 1980s. **The task is to devise a Machine Learning Model that helps us predict the cost of media campaigns in the food marts on the basis of the features provided.**"
   ]
  },
  {
   "cell_type": "markdown",
   "id": "e23a5f8d",
   "metadata": {
    "papermill": {
     "duration": 0.014347,
     "end_time": "2023-04-24T03:31:14.703180",
     "exception": false,
     "start_time": "2023-04-24T03:31:14.688833",
     "status": "completed"
    },
    "tags": []
   },
   "source": [
    "<div style=\"border-radius:10px; border:#DEB887 solid; padding: 15px; background-color: #FFFAF0; font-size:100%; text-align:left\">\n",
    "\n",
    "<h3 align=\"left\"><font color='#DEB887'>Data description:</font></h3>\n",
    "original explanation:</br>\n",
    "\n",
    "1. store_sales(in millions) ---- store_sales(in million dollars)\n",
    "2. unit_sales(in millions) ---- unit_sales(in millions) in stores Quantity\n",
    "3. Total_children ---- total children in home\n",
    "4. avg_cars_at home(approx) ---- avg_cars_at home(approx)\n",
    "5. Num_children_at_home ---- num_children_at_home AS PER CUSTOMERS FILLED DETAILS\n",
    "6. Gross_weight ---- gross_weight OF ITEM\n",
    "7. Recyclable_package ---- FOOD ITEM IS recyclable_package\n",
    "8. Low_fat ---- LOW_FAT FOOD ITEM IS LOW FAT\n",
    "9. Units_per_case ---- UNITS/CASE UNITS AVAILABLE IN EACH STORE SHELVES\n",
    "10. Store_sqft ---- STORE AREA AVAILABLE IN SQFT\n",
    "11. Coffee_bar ---- COFFEE BAR available in store\n",
    "12. Video_store ---- VIDEO STORE/gaming store available\n",
    "13. Salad_bar ---- SALAD BAR available in store\n",
    "14. Prepared_food ---- food prepared available in store\n",
    "15. Florist ---- flower shelves available in store\n",
    "16. Cost ---- COST ON ACQUIRING A CUSTOMERS in dollars\n",
    "\n",
    "To the features of 'Total_Children' and 'Num_Children_At_Home', There is some explanation I think is reasonable\n",
    "* Total_Children : Total number of children the customer has\n",
    "* Num_Children_At_Home : Out of the total, How many children reside in the customers household."
   ]
  },
  {
   "cell_type": "code",
   "execution_count": 4,
   "id": "1fa3f1bd",
   "metadata": {
    "execution": {
     "iopub.execute_input": "2023-04-24T03:31:35.910385Z",
     "iopub.status.busy": "2023-04-24T03:31:35.908637Z",
     "iopub.status.idle": "2023-04-24T03:31:37.553634Z",
     "shell.execute_reply": "2023-04-24T03:31:37.552365Z"
    },
    "papermill": {
     "duration": 1.664226,
     "end_time": "2023-04-24T03:31:37.556626",
     "exception": false,
     "start_time": "2023-04-24T03:31:35.892400",
     "status": "completed"
    },
    "tags": []
   },
   "outputs": [],
   "source": [
    "import numpy as np\n",
    "import pandas as pd\n",
    "import seaborn as sns\n",
    "import matplotlib.pyplot as plt\n",
    "from sklearn.preprocessing import OneHotEncoder\n",
    "from sklearn.linear_model import LinearRegression,Ridge,Lasso\n",
    "from sklearn.model_selection import train_test_split, StratifiedKFold, KFold\n",
    "from sklearn.metrics import mean_squared_error, r2_score\n",
    "from sklearn.metrics import mean_squared_log_error\n",
    "import xgboost as xgb\n",
    "from sklearn.preprocessing import LabelEncoder\n",
    "from xgboost import plot_importance"
   ]
  },
  {
   "cell_type": "code",
   "execution_count": 5,
   "id": "4fc5146b",
   "metadata": {
    "editable": false,
    "execution": {
     "iopub.execute_input": "2023-04-24T03:31:37.584553Z",
     "iopub.status.busy": "2023-04-24T03:31:37.584108Z",
     "iopub.status.idle": "2023-04-24T03:31:39.239545Z",
     "shell.execute_reply": "2023-04-24T03:31:39.238149Z"
    },
    "papermill": {
     "duration": 1.673242,
     "end_time": "2023-04-24T03:31:39.242836",
     "exception": false,
     "start_time": "2023-04-24T03:31:37.569594",
     "status": "completed"
    },
    "tags": []
   },
   "outputs": [],
   "source": [
    "train_raw = pd.read_csv(\"train.csv\")\n",
    "test_raw = pd.read_csv(\"test.csv\") \n",
    "original = pd.read_csv(\"train_dataset.csv\")"
   ]
  },
  {
   "cell_type": "markdown",
   "id": "b866f0e2",
   "metadata": {
    "papermill": {
     "duration": 0.01323,
     "end_time": "2023-04-24T03:31:39.269560",
     "exception": false,
     "start_time": "2023-04-24T03:31:39.256330",
     "status": "completed"
    },
    "tags": []
   },
   "source": [
    "<div class=\"alert alert-block alert-success\" style=\"font-size:14px; font-family:verdana; line-height: 1.7em;\">\n",
    "    \n",
    "**Rename the Features in my realization :**\n",
    "</div>"
   ]
  },
  {
   "cell_type": "markdown",
   "id": "9dbe9c0c",
   "metadata": {},
   "source": []
  },
  {
   "cell_type": "code",
   "execution_count": 6,
   "id": "59b56108",
   "metadata": {
    "execution": {
     "iopub.execute_input": "2023-04-24T03:31:39.297580Z",
     "iopub.status.busy": "2023-04-24T03:31:39.297147Z",
     "iopub.status.idle": "2023-04-24T03:31:39.417019Z",
     "shell.execute_reply": "2023-04-24T03:31:39.415566Z"
    },
    "papermill": {
     "duration": 0.137048,
     "end_time": "2023-04-24T03:31:39.419642",
     "exception": false,
     "start_time": "2023-04-24T03:31:39.282594",
     "status": "completed"
    },
    "tags": []
   },
   "outputs": [
    {
     "data": {
      "text/html": [
       "<div>\n",
       "<style scoped>\n",
       "    .dataframe tbody tr th:only-of-type {\n",
       "        vertical-align: middle;\n",
       "    }\n",
       "\n",
       "    .dataframe tbody tr th {\n",
       "        vertical-align: top;\n",
       "    }\n",
       "\n",
       "    .dataframe thead th {\n",
       "        text-align: right;\n",
       "    }\n",
       "</style>\n",
       "<table border=\"1\" class=\"dataframe\">\n",
       "  <thead>\n",
       "    <tr style=\"text-align: right;\">\n",
       "      <th></th>\n",
       "      <th>Store Sales(in millions)</th>\n",
       "      <th>Unit Sales(in millions)</th>\n",
       "      <th>Total Children</th>\n",
       "      <th>Number of Children At Home</th>\n",
       "      <th>Average of Car</th>\n",
       "      <th>Gross Weight</th>\n",
       "      <th>Has Recyclable Package</th>\n",
       "      <th>Has Low Fat</th>\n",
       "      <th>Units Per Case</th>\n",
       "      <th>Store Area</th>\n",
       "      <th>Has Coffee Bar</th>\n",
       "      <th>Has Entertainment</th>\n",
       "      <th>Has Salad Bar</th>\n",
       "      <th>Has Prepared Food</th>\n",
       "      <th>Has Florist</th>\n",
       "      <th>Cost</th>\n",
       "    </tr>\n",
       "  </thead>\n",
       "  <tbody>\n",
       "    <tr>\n",
       "      <th>0</th>\n",
       "      <td>8.61</td>\n",
       "      <td>3.0</td>\n",
       "      <td>2.0</td>\n",
       "      <td>2.0</td>\n",
       "      <td>2.0</td>\n",
       "      <td>10.30</td>\n",
       "      <td>1.0</td>\n",
       "      <td>0.0</td>\n",
       "      <td>32.0</td>\n",
       "      <td>36509.0</td>\n",
       "      <td>0.0</td>\n",
       "      <td>0.0</td>\n",
       "      <td>0.0</td>\n",
       "      <td>0.0</td>\n",
       "      <td>0.0</td>\n",
       "      <td>62.09</td>\n",
       "    </tr>\n",
       "    <tr>\n",
       "      <th>1</th>\n",
       "      <td>5.00</td>\n",
       "      <td>2.0</td>\n",
       "      <td>4.0</td>\n",
       "      <td>0.0</td>\n",
       "      <td>3.0</td>\n",
       "      <td>6.66</td>\n",
       "      <td>1.0</td>\n",
       "      <td>0.0</td>\n",
       "      <td>1.0</td>\n",
       "      <td>28206.0</td>\n",
       "      <td>1.0</td>\n",
       "      <td>0.0</td>\n",
       "      <td>0.0</td>\n",
       "      <td>0.0</td>\n",
       "      <td>0.0</td>\n",
       "      <td>121.80</td>\n",
       "    </tr>\n",
       "    <tr>\n",
       "      <th>2</th>\n",
       "      <td>14.08</td>\n",
       "      <td>4.0</td>\n",
       "      <td>0.0</td>\n",
       "      <td>0.0</td>\n",
       "      <td>3.0</td>\n",
       "      <td>21.30</td>\n",
       "      <td>1.0</td>\n",
       "      <td>0.0</td>\n",
       "      <td>26.0</td>\n",
       "      <td>21215.0</td>\n",
       "      <td>1.0</td>\n",
       "      <td>0.0</td>\n",
       "      <td>0.0</td>\n",
       "      <td>0.0</td>\n",
       "      <td>0.0</td>\n",
       "      <td>83.51</td>\n",
       "    </tr>\n",
       "    <tr>\n",
       "      <th>3</th>\n",
       "      <td>4.02</td>\n",
       "      <td>3.0</td>\n",
       "      <td>5.0</td>\n",
       "      <td>0.0</td>\n",
       "      <td>0.0</td>\n",
       "      <td>14.80</td>\n",
       "      <td>0.0</td>\n",
       "      <td>1.0</td>\n",
       "      <td>36.0</td>\n",
       "      <td>21215.0</td>\n",
       "      <td>1.0</td>\n",
       "      <td>0.0</td>\n",
       "      <td>0.0</td>\n",
       "      <td>0.0</td>\n",
       "      <td>0.0</td>\n",
       "      <td>66.78</td>\n",
       "    </tr>\n",
       "    <tr>\n",
       "      <th>4</th>\n",
       "      <td>2.13</td>\n",
       "      <td>3.0</td>\n",
       "      <td>5.0</td>\n",
       "      <td>0.0</td>\n",
       "      <td>3.0</td>\n",
       "      <td>17.00</td>\n",
       "      <td>1.0</td>\n",
       "      <td>1.0</td>\n",
       "      <td>20.0</td>\n",
       "      <td>27694.0</td>\n",
       "      <td>1.0</td>\n",
       "      <td>1.0</td>\n",
       "      <td>1.0</td>\n",
       "      <td>1.0</td>\n",
       "      <td>1.0</td>\n",
       "      <td>111.51</td>\n",
       "    </tr>\n",
       "  </tbody>\n",
       "</table>\n",
       "</div>"
      ],
      "text/plain": [
       "   Store Sales(in millions)  Unit Sales(in millions)  Total Children  \\\n",
       "0                      8.61                      3.0             2.0   \n",
       "1                      5.00                      2.0             4.0   \n",
       "2                     14.08                      4.0             0.0   \n",
       "3                      4.02                      3.0             5.0   \n",
       "4                      2.13                      3.0             5.0   \n",
       "\n",
       "   Number of Children At Home  Average of Car  Gross Weight  \\\n",
       "0                         2.0             2.0         10.30   \n",
       "1                         0.0             3.0          6.66   \n",
       "2                         0.0             3.0         21.30   \n",
       "3                         0.0             0.0         14.80   \n",
       "4                         0.0             3.0         17.00   \n",
       "\n",
       "   Has Recyclable Package  Has Low Fat  Units Per Case  Store Area  \\\n",
       "0                     1.0          0.0            32.0     36509.0   \n",
       "1                     1.0          0.0             1.0     28206.0   \n",
       "2                     1.0          0.0            26.0     21215.0   \n",
       "3                     0.0          1.0            36.0     21215.0   \n",
       "4                     1.0          1.0            20.0     27694.0   \n",
       "\n",
       "   Has Coffee Bar  Has Entertainment  Has Salad Bar  Has Prepared Food  \\\n",
       "0             0.0                0.0            0.0                0.0   \n",
       "1             1.0                0.0            0.0                0.0   \n",
       "2             1.0                0.0            0.0                0.0   \n",
       "3             1.0                0.0            0.0                0.0   \n",
       "4             1.0                1.0            1.0                1.0   \n",
       "\n",
       "   Has Florist    Cost  \n",
       "0          0.0   62.09  \n",
       "1          0.0  121.80  \n",
       "2          0.0   83.51  \n",
       "3          0.0   66.78  \n",
       "4          1.0  111.51  "
      ]
     },
     "execution_count": 6,
     "metadata": {},
     "output_type": "execute_result"
    }
   ],
   "source": [
    "train_raw = train_raw.drop(columns=\"id\")\n",
    "test_raw = test_raw.drop(columns=\"id\")\n",
    "columns = {'store_sales(in millions)':'Store Sales(in millions)',\n",
    "          'unit_sales(in millions)': 'Unit Sales(in millions)',\n",
    "          'total_children':'Total Children',\n",
    "          'num_children_at_home':'Number of Children At Home',\n",
    "          'avg_cars_at home(approx).1':'Average of Car',\n",
    "          'gross_weight':'Gross Weight',\n",
    "          'recyclable_package':'Has Recyclable Package',\n",
    "          'low_fat':'Has Low Fat',\n",
    "          'units_per_case':'Units Per Case',\n",
    "          'store_sqft':'Store Area',\n",
    "          'coffee_bar':'Has Coffee Bar',\n",
    "          'video_store':'Has Entertainment',\n",
    "          'salad_bar':'Has Salad Bar',\n",
    "          'prepared_food':'Has Prepared Food',\n",
    "          'florist':'Has Florist',\n",
    "          'cost':'Cost'}\n",
    "train = train_raw.rename(columns=columns)\n",
    "test = test_raw.rename(columns=columns)\n",
    "train.head(5)"
   ]
  },
  {
   "cell_type": "code",
   "execution_count": 7,
   "id": "75d4c880",
   "metadata": {
    "editable": false,
    "execution": {
     "iopub.execute_input": "2023-04-24T03:31:39.448592Z",
     "iopub.status.busy": "2023-04-24T03:31:39.448172Z",
     "iopub.status.idle": "2023-04-24T03:31:39.456036Z",
     "shell.execute_reply": "2023-04-24T03:31:39.454605Z"
    },
    "papermill": {
     "duration": 0.025163,
     "end_time": "2023-04-24T03:31:39.458572",
     "exception": false,
     "start_time": "2023-04-24T03:31:39.433409",
     "status": "completed"
    },
    "tags": []
   },
   "outputs": [
    {
     "data": {
      "text/plain": [
       "(360336, 16)"
      ]
     },
     "execution_count": 7,
     "metadata": {},
     "output_type": "execute_result"
    }
   ],
   "source": [
    "train.shape"
   ]
  },
  {
   "cell_type": "code",
   "execution_count": 7,
   "id": "c4efa031",
   "metadata": {
    "execution": {
     "iopub.execute_input": "2023-04-24T03:31:39.488782Z",
     "iopub.status.busy": "2023-04-24T03:31:39.487734Z",
     "iopub.status.idle": "2023-04-24T03:31:39.497544Z",
     "shell.execute_reply": "2023-04-24T03:31:39.496330Z"
    },
    "papermill": {
     "duration": 0.027064,
     "end_time": "2023-04-24T03:31:39.500192",
     "exception": false,
     "start_time": "2023-04-24T03:31:39.473128",
     "status": "completed"
    },
    "tags": []
   },
   "outputs": [
    {
     "data": {
      "text/plain": [
       "Store Sales(in millions)      float64\n",
       "Unit Sales(in millions)       float64\n",
       "Total Children                float64\n",
       "Number of Children At Home    float64\n",
       "Average of Car                float64\n",
       "Gross Weight                  float64\n",
       "Has Recyclable Package        float64\n",
       "Has Low Fat                   float64\n",
       "Units Per Case                float64\n",
       "Store Area                    float64\n",
       "Has Coffee Bar                float64\n",
       "Has Entertainment             float64\n",
       "Has Salad Bar                 float64\n",
       "Has Prepared Food             float64\n",
       "Has Florist                   float64\n",
       "Cost                          float64\n",
       "dtype: object"
      ]
     },
     "execution_count": 7,
     "metadata": {},
     "output_type": "execute_result"
    }
   ],
   "source": [
    "train.dtypes"
   ]
  },
  {
   "cell_type": "code",
   "execution_count": 8,
   "id": "9b4e8118",
   "metadata": {
    "editable": false,
    "execution": {
     "iopub.execute_input": "2023-04-24T03:31:39.529973Z",
     "iopub.status.busy": "2023-04-24T03:31:39.528595Z",
     "iopub.status.idle": "2023-04-24T03:31:39.831252Z",
     "shell.execute_reply": "2023-04-24T03:31:39.829964Z"
    },
    "papermill": {
     "duration": 0.320543,
     "end_time": "2023-04-24T03:31:39.834262",
     "exception": false,
     "start_time": "2023-04-24T03:31:39.513719",
     "status": "completed"
    },
    "tags": []
   },
   "outputs": [
    {
     "data": {
      "text/html": [
       "<div>\n",
       "<style scoped>\n",
       "    .dataframe tbody tr th:only-of-type {\n",
       "        vertical-align: middle;\n",
       "    }\n",
       "\n",
       "    .dataframe tbody tr th {\n",
       "        vertical-align: top;\n",
       "    }\n",
       "\n",
       "    .dataframe thead th {\n",
       "        text-align: right;\n",
       "    }\n",
       "</style>\n",
       "<table border=\"1\" class=\"dataframe\">\n",
       "  <thead>\n",
       "    <tr style=\"text-align: right;\">\n",
       "      <th></th>\n",
       "      <th>Store Sales(in millions)</th>\n",
       "      <th>Unit Sales(in millions)</th>\n",
       "      <th>Total Children</th>\n",
       "      <th>Number of Children At Home</th>\n",
       "      <th>Average of Car</th>\n",
       "      <th>Gross Weight</th>\n",
       "      <th>Has Recyclable Package</th>\n",
       "      <th>Has Low Fat</th>\n",
       "      <th>Units Per Case</th>\n",
       "      <th>Store Area</th>\n",
       "      <th>Has Coffee Bar</th>\n",
       "      <th>Has Entertainment</th>\n",
       "      <th>Has Salad Bar</th>\n",
       "      <th>Has Prepared Food</th>\n",
       "      <th>Has Florist</th>\n",
       "      <th>Cost</th>\n",
       "    </tr>\n",
       "  </thead>\n",
       "  <tbody>\n",
       "    <tr>\n",
       "      <th>count</th>\n",
       "      <td>360336.000000</td>\n",
       "      <td>360336.000000</td>\n",
       "      <td>360336.000000</td>\n",
       "      <td>360336.000000</td>\n",
       "      <td>360336.000000</td>\n",
       "      <td>360336.000000</td>\n",
       "      <td>360336.000000</td>\n",
       "      <td>360336.000000</td>\n",
       "      <td>360336.000000</td>\n",
       "      <td>360336.000000</td>\n",
       "      <td>360336.000000</td>\n",
       "      <td>360336.000000</td>\n",
       "      <td>360336.000000</td>\n",
       "      <td>360336.000000</td>\n",
       "      <td>360336.000000</td>\n",
       "      <td>360336.000000</td>\n",
       "    </tr>\n",
       "    <tr>\n",
       "      <th>mean</th>\n",
       "      <td>6.337376</td>\n",
       "      <td>3.043881</td>\n",
       "      <td>2.456482</td>\n",
       "      <td>0.689390</td>\n",
       "      <td>2.203813</td>\n",
       "      <td>13.822071</td>\n",
       "      <td>0.568086</td>\n",
       "      <td>0.327797</td>\n",
       "      <td>18.972706</td>\n",
       "      <td>28180.333442</td>\n",
       "      <td>0.564839</td>\n",
       "      <td>0.277394</td>\n",
       "      <td>0.504807</td>\n",
       "      <td>0.504832</td>\n",
       "      <td>0.503191</td>\n",
       "      <td>99.614729</td>\n",
       "    </tr>\n",
       "    <tr>\n",
       "      <th>std</th>\n",
       "      <td>3.307980</td>\n",
       "      <td>0.784676</td>\n",
       "      <td>1.488992</td>\n",
       "      <td>1.214732</td>\n",
       "      <td>1.084293</td>\n",
       "      <td>4.614792</td>\n",
       "      <td>0.495343</td>\n",
       "      <td>0.469411</td>\n",
       "      <td>10.212912</td>\n",
       "      <td>5968.874074</td>\n",
       "      <td>0.495779</td>\n",
       "      <td>0.447713</td>\n",
       "      <td>0.499978</td>\n",
       "      <td>0.499977</td>\n",
       "      <td>0.499991</td>\n",
       "      <td>29.939435</td>\n",
       "    </tr>\n",
       "    <tr>\n",
       "      <th>min</th>\n",
       "      <td>0.510000</td>\n",
       "      <td>1.000000</td>\n",
       "      <td>0.000000</td>\n",
       "      <td>0.000000</td>\n",
       "      <td>0.000000</td>\n",
       "      <td>6.000000</td>\n",
       "      <td>0.000000</td>\n",
       "      <td>0.000000</td>\n",
       "      <td>1.000000</td>\n",
       "      <td>20319.000000</td>\n",
       "      <td>0.000000</td>\n",
       "      <td>0.000000</td>\n",
       "      <td>0.000000</td>\n",
       "      <td>0.000000</td>\n",
       "      <td>0.000000</td>\n",
       "      <td>50.790000</td>\n",
       "    </tr>\n",
       "    <tr>\n",
       "      <th>25%</th>\n",
       "      <td>3.720000</td>\n",
       "      <td>3.000000</td>\n",
       "      <td>1.000000</td>\n",
       "      <td>0.000000</td>\n",
       "      <td>1.000000</td>\n",
       "      <td>9.710000</td>\n",
       "      <td>0.000000</td>\n",
       "      <td>0.000000</td>\n",
       "      <td>10.000000</td>\n",
       "      <td>23593.000000</td>\n",
       "      <td>0.000000</td>\n",
       "      <td>0.000000</td>\n",
       "      <td>0.000000</td>\n",
       "      <td>0.000000</td>\n",
       "      <td>0.000000</td>\n",
       "      <td>70.320000</td>\n",
       "    </tr>\n",
       "    <tr>\n",
       "      <th>50%</th>\n",
       "      <td>5.780000</td>\n",
       "      <td>3.000000</td>\n",
       "      <td>2.000000</td>\n",
       "      <td>0.000000</td>\n",
       "      <td>2.000000</td>\n",
       "      <td>13.600000</td>\n",
       "      <td>1.000000</td>\n",
       "      <td>0.000000</td>\n",
       "      <td>20.000000</td>\n",
       "      <td>27694.000000</td>\n",
       "      <td>1.000000</td>\n",
       "      <td>0.000000</td>\n",
       "      <td>1.000000</td>\n",
       "      <td>1.000000</td>\n",
       "      <td>1.000000</td>\n",
       "      <td>98.810000</td>\n",
       "    </tr>\n",
       "    <tr>\n",
       "      <th>75%</th>\n",
       "      <td>8.400000</td>\n",
       "      <td>4.000000</td>\n",
       "      <td>4.000000</td>\n",
       "      <td>1.000000</td>\n",
       "      <td>3.000000</td>\n",
       "      <td>17.700000</td>\n",
       "      <td>1.000000</td>\n",
       "      <td>1.000000</td>\n",
       "      <td>28.000000</td>\n",
       "      <td>33858.000000</td>\n",
       "      <td>1.000000</td>\n",
       "      <td>1.000000</td>\n",
       "      <td>1.000000</td>\n",
       "      <td>1.000000</td>\n",
       "      <td>1.000000</td>\n",
       "      <td>126.620000</td>\n",
       "    </tr>\n",
       "    <tr>\n",
       "      <th>max</th>\n",
       "      <td>22.920000</td>\n",
       "      <td>6.000000</td>\n",
       "      <td>5.000000</td>\n",
       "      <td>5.000000</td>\n",
       "      <td>4.000000</td>\n",
       "      <td>21.900000</td>\n",
       "      <td>1.000000</td>\n",
       "      <td>1.000000</td>\n",
       "      <td>36.000000</td>\n",
       "      <td>39696.000000</td>\n",
       "      <td>1.000000</td>\n",
       "      <td>1.000000</td>\n",
       "      <td>1.000000</td>\n",
       "      <td>1.000000</td>\n",
       "      <td>1.000000</td>\n",
       "      <td>149.750000</td>\n",
       "    </tr>\n",
       "  </tbody>\n",
       "</table>\n",
       "</div>"
      ],
      "text/plain": [
       "       Store Sales(in millions)  Unit Sales(in millions)  Total Children  \\\n",
       "count             360336.000000            360336.000000   360336.000000   \n",
       "mean                   6.337376                 3.043881        2.456482   \n",
       "std                    3.307980                 0.784676        1.488992   \n",
       "min                    0.510000                 1.000000        0.000000   \n",
       "25%                    3.720000                 3.000000        1.000000   \n",
       "50%                    5.780000                 3.000000        2.000000   \n",
       "75%                    8.400000                 4.000000        4.000000   \n",
       "max                   22.920000                 6.000000        5.000000   \n",
       "\n",
       "       Number of Children At Home  Average of Car   Gross Weight  \\\n",
       "count               360336.000000   360336.000000  360336.000000   \n",
       "mean                     0.689390        2.203813      13.822071   \n",
       "std                      1.214732        1.084293       4.614792   \n",
       "min                      0.000000        0.000000       6.000000   \n",
       "25%                      0.000000        1.000000       9.710000   \n",
       "50%                      0.000000        2.000000      13.600000   \n",
       "75%                      1.000000        3.000000      17.700000   \n",
       "max                      5.000000        4.000000      21.900000   \n",
       "\n",
       "       Has Recyclable Package    Has Low Fat  Units Per Case     Store Area  \\\n",
       "count           360336.000000  360336.000000   360336.000000  360336.000000   \n",
       "mean                 0.568086       0.327797       18.972706   28180.333442   \n",
       "std                  0.495343       0.469411       10.212912    5968.874074   \n",
       "min                  0.000000       0.000000        1.000000   20319.000000   \n",
       "25%                  0.000000       0.000000       10.000000   23593.000000   \n",
       "50%                  1.000000       0.000000       20.000000   27694.000000   \n",
       "75%                  1.000000       1.000000       28.000000   33858.000000   \n",
       "max                  1.000000       1.000000       36.000000   39696.000000   \n",
       "\n",
       "       Has Coffee Bar  Has Entertainment  Has Salad Bar  Has Prepared Food  \\\n",
       "count   360336.000000      360336.000000  360336.000000      360336.000000   \n",
       "mean         0.564839           0.277394       0.504807           0.504832   \n",
       "std          0.495779           0.447713       0.499978           0.499977   \n",
       "min          0.000000           0.000000       0.000000           0.000000   \n",
       "25%          0.000000           0.000000       0.000000           0.000000   \n",
       "50%          1.000000           0.000000       1.000000           1.000000   \n",
       "75%          1.000000           1.000000       1.000000           1.000000   \n",
       "max          1.000000           1.000000       1.000000           1.000000   \n",
       "\n",
       "         Has Florist           Cost  \n",
       "count  360336.000000  360336.000000  \n",
       "mean        0.503191      99.614729  \n",
       "std         0.499991      29.939435  \n",
       "min         0.000000      50.790000  \n",
       "25%         0.000000      70.320000  \n",
       "50%         1.000000      98.810000  \n",
       "75%         1.000000     126.620000  \n",
       "max         1.000000     149.750000  "
      ]
     },
     "execution_count": 8,
     "metadata": {},
     "output_type": "execute_result"
    }
   ],
   "source": [
    "train.describe()"
   ]
  },
  {
   "cell_type": "code",
   "execution_count": 9,
   "id": "d17ed81d",
   "metadata": {
    "execution": {
     "iopub.execute_input": "2023-04-24T03:31:39.865522Z",
     "iopub.status.busy": "2023-04-24T03:31:39.865106Z",
     "iopub.status.idle": "2023-04-24T03:31:39.887929Z",
     "shell.execute_reply": "2023-04-24T03:31:39.886640Z"
    },
    "papermill": {
     "duration": 0.041429,
     "end_time": "2023-04-24T03:31:39.890684",
     "exception": false,
     "start_time": "2023-04-24T03:31:39.849255",
     "status": "completed"
    },
    "tags": []
   },
   "outputs": [
    {
     "data": {
      "text/plain": [
       "Store Sales(in millions)      0\n",
       "Unit Sales(in millions)       0\n",
       "Total Children                0\n",
       "Number of Children At Home    0\n",
       "Average of Car                0\n",
       "Gross Weight                  0\n",
       "Has Recyclable Package        0\n",
       "Has Low Fat                   0\n",
       "Units Per Case                0\n",
       "Store Area                    0\n",
       "Has Coffee Bar                0\n",
       "Has Entertainment             0\n",
       "Has Salad Bar                 0\n",
       "Has Prepared Food             0\n",
       "Has Florist                   0\n",
       "Cost                          0\n",
       "dtype: int64"
      ]
     },
     "execution_count": 9,
     "metadata": {},
     "output_type": "execute_result"
    }
   ],
   "source": [
    "train.isna().sum()"
   ]
  },
  {
   "cell_type": "code",
   "execution_count": 10,
   "id": "c12db494",
   "metadata": {
    "execution": {
     "iopub.execute_input": "2023-04-24T03:31:39.921188Z",
     "iopub.status.busy": "2023-04-24T03:31:39.920779Z",
     "iopub.status.idle": "2023-04-24T03:31:39.937263Z",
     "shell.execute_reply": "2023-04-24T03:31:39.936173Z"
    },
    "papermill": {
     "duration": 0.034382,
     "end_time": "2023-04-24T03:31:39.939783",
     "exception": false,
     "start_time": "2023-04-24T03:31:39.905401",
     "status": "completed"
    },
    "tags": []
   },
   "outputs": [
    {
     "data": {
      "text/plain": [
       "Store Sales(in millions)      0\n",
       "Unit Sales(in millions)       0\n",
       "Total Children                0\n",
       "Number of Children At Home    0\n",
       "Average of Car                0\n",
       "Gross Weight                  0\n",
       "Has Recyclable Package        0\n",
       "Has Low Fat                   0\n",
       "Units Per Case                0\n",
       "Store Area                    0\n",
       "Has Coffee Bar                0\n",
       "Has Entertainment             0\n",
       "Has Salad Bar                 0\n",
       "Has Prepared Food             0\n",
       "Has Florist                   0\n",
       "dtype: int64"
      ]
     },
     "execution_count": 10,
     "metadata": {},
     "output_type": "execute_result"
    }
   ],
   "source": [
    "test.isna().sum()"
   ]
  },
  {
   "cell_type": "markdown",
   "id": "389f8913",
   "metadata": {
    "papermill": {
     "duration": 0.0142,
     "end_time": "2023-04-24T03:31:39.968383",
     "exception": false,
     "start_time": "2023-04-24T03:31:39.954183",
     "status": "completed"
    },
    "tags": []
   },
   "source": [
    "<div style=\"border-radius:10px; border:#DEB887 solid; padding: 15px; background-color: #FFFAF0; font-size:100%; text-align:left\">\n",
    "\n",
    "<h3 align=\"left\"><font color='#DEB887'>Insights:</font></h3>\n",
    "\n",
    "* **It is no NaN values on train and test**\n",
    "* **All variables are float64 type. But some of them are categorical variables, need to be converted later.**\n",
    "* **The train has 360336 rows with 16 columns(features)**"
   ]
  },
  {
   "cell_type": "markdown",
   "id": "e15fb83c",
   "metadata": {
    "editable": false,
    "papermill": {
     "duration": 0.014114,
     "end_time": "2023-04-24T03:31:39.996980",
     "exception": false,
     "start_time": "2023-04-24T03:31:39.982866",
     "status": "completed"
    },
    "tags": []
   },
   "source": [
    "### <p style=\"font-family:JetBrains Mono; font-weight:bold; letter-spacing: 2px; color:#006600; font-size:140%; text-align:left;padding: 0px; border-bottom: 3px solid #003300\"> 2. Explore data analysis(EDA) </p>"
   ]
  },
  {
   "cell_type": "markdown",
   "id": "c780e141",
   "metadata": {
    "papermill": {
     "duration": 0.01593,
     "end_time": "2023-04-24T03:31:40.033428",
     "exception": false,
     "start_time": "2023-04-24T03:31:40.017498",
     "status": "completed"
    },
    "tags": []
   },
   "source": [
    "<div style=\"border-radius:10px; border:#DEB887 solid; padding: 15px; background-color: #FFFAF0; font-size:100%; text-align:left\">\n",
    "\n",
    "<h3 align=\"left\"><font color='#DEB887'>💡 Summary of EDA:</font></h3>\n",
    "\n",
    "* **I add some the feature likes 'Children_Ratio', Idea from https://www.kaggle.com/competitions/playground-series-s3e11/discussion/396291**\n",
    "    \n",
    "* **The feature 'Store Area' has just 20 different unique values, it can be identified as Discrete Features rather than Continuous Features.**\n",
    "    \n",
    "* **Correlation Analysis in Discrete Features and Continuous Features.**"
   ]
  },
  {
   "cell_type": "markdown",
   "id": "652b4f8c",
   "metadata": {
    "papermill": {
     "duration": 0.013828,
     "end_time": "2023-04-24T03:31:40.063725",
     "exception": false,
     "start_time": "2023-04-24T03:31:40.049897",
     "status": "completed"
    },
    "tags": []
   },
   "source": [
    "#### <p style=\"font-family:JetBrains Mono; font-weight:bold; letter-spacing: 0px; color:#006600; font-size:140%; text-align:left;padding: 0px; border-bottom: 3px solid #003300\">2.1 Feature Engineering </p>"
   ]
  },
  {
   "cell_type": "code",
   "execution_count": 9,
   "id": "9586fd4a",
   "metadata": {
    "execution": {
     "iopub.execute_input": "2023-04-24T03:31:40.096050Z",
     "iopub.status.busy": "2023-04-24T03:31:40.094556Z",
     "iopub.status.idle": "2023-04-24T03:31:40.175522Z",
     "shell.execute_reply": "2023-04-24T03:31:40.173599Z"
    },
    "papermill": {
     "duration": 0.101338,
     "end_time": "2023-04-24T03:31:40.179351",
     "exception": false,
     "start_time": "2023-04-24T03:31:40.078013",
     "status": "completed"
    },
    "tags": []
   },
   "outputs": [
    {
     "name": "stderr",
     "output_type": "stream",
     "text": [
      "C:\\Users\\sonis\\AppData\\Local\\Temp\\ipykernel_30172\\1105896467.py:3: FutureWarning: A value is trying to be set on a copy of a DataFrame or Series through chained assignment using an inplace method.\n",
      "The behavior will change in pandas 3.0. This inplace method will never work because the intermediate object on which we are setting values always behaves as a copy.\n",
      "\n",
      "For example, when doing 'df[col].method(value, inplace=True)', try using 'df.method({col: value}, inplace=True)' or df[col] = df[col].method(value) instead, to perform the operation inplace on the original object.\n",
      "\n",
      "\n",
      "  train['Children_Ratio'].fillna(0, inplace=True)\n"
     ]
    },
    {
     "data": {
      "text/html": [
       "<div>\n",
       "<style scoped>\n",
       "    .dataframe tbody tr th:only-of-type {\n",
       "        vertical-align: middle;\n",
       "    }\n",
       "\n",
       "    .dataframe tbody tr th {\n",
       "        vertical-align: top;\n",
       "    }\n",
       "\n",
       "    .dataframe thead th {\n",
       "        text-align: right;\n",
       "    }\n",
       "</style>\n",
       "<table border=\"1\" class=\"dataframe\">\n",
       "  <thead>\n",
       "    <tr style=\"text-align: right;\">\n",
       "      <th></th>\n",
       "      <th>Total Children</th>\n",
       "      <th>Number of Children At Home</th>\n",
       "      <th>Children_Ratio</th>\n",
       "    </tr>\n",
       "  </thead>\n",
       "  <tbody>\n",
       "    <tr>\n",
       "      <th>0</th>\n",
       "      <td>2.0</td>\n",
       "      <td>2.0</td>\n",
       "      <td>1.0</td>\n",
       "    </tr>\n",
       "    <tr>\n",
       "      <th>1</th>\n",
       "      <td>4.0</td>\n",
       "      <td>0.0</td>\n",
       "      <td>10.0</td>\n",
       "    </tr>\n",
       "    <tr>\n",
       "      <th>2</th>\n",
       "      <td>0.0</td>\n",
       "      <td>0.0</td>\n",
       "      <td>0.0</td>\n",
       "    </tr>\n",
       "    <tr>\n",
       "      <th>3</th>\n",
       "      <td>5.0</td>\n",
       "      <td>0.0</td>\n",
       "      <td>10.0</td>\n",
       "    </tr>\n",
       "    <tr>\n",
       "      <th>4</th>\n",
       "      <td>5.0</td>\n",
       "      <td>0.0</td>\n",
       "      <td>10.0</td>\n",
       "    </tr>\n",
       "    <tr>\n",
       "      <th>...</th>\n",
       "      <td>...</td>\n",
       "      <td>...</td>\n",
       "      <td>...</td>\n",
       "    </tr>\n",
       "    <tr>\n",
       "      <th>360331</th>\n",
       "      <td>5.0</td>\n",
       "      <td>5.0</td>\n",
       "      <td>1.0</td>\n",
       "    </tr>\n",
       "    <tr>\n",
       "      <th>360332</th>\n",
       "      <td>4.0</td>\n",
       "      <td>0.0</td>\n",
       "      <td>10.0</td>\n",
       "    </tr>\n",
       "    <tr>\n",
       "      <th>360333</th>\n",
       "      <td>0.0</td>\n",
       "      <td>0.0</td>\n",
       "      <td>0.0</td>\n",
       "    </tr>\n",
       "    <tr>\n",
       "      <th>360334</th>\n",
       "      <td>1.0</td>\n",
       "      <td>0.0</td>\n",
       "      <td>10.0</td>\n",
       "    </tr>\n",
       "    <tr>\n",
       "      <th>360335</th>\n",
       "      <td>2.0</td>\n",
       "      <td>0.0</td>\n",
       "      <td>10.0</td>\n",
       "    </tr>\n",
       "  </tbody>\n",
       "</table>\n",
       "<p>360336 rows × 3 columns</p>\n",
       "</div>"
      ],
      "text/plain": [
       "        Total Children  Number of Children At Home  Children_Ratio\n",
       "0                  2.0                         2.0             1.0\n",
       "1                  4.0                         0.0            10.0\n",
       "2                  0.0                         0.0             0.0\n",
       "3                  5.0                         0.0            10.0\n",
       "4                  5.0                         0.0            10.0\n",
       "...                ...                         ...             ...\n",
       "360331             5.0                         5.0             1.0\n",
       "360332             4.0                         0.0            10.0\n",
       "360333             0.0                         0.0             0.0\n",
       "360334             1.0                         0.0            10.0\n",
       "360335             2.0                         0.0            10.0\n",
       "\n",
       "[360336 rows x 3 columns]"
      ]
     },
     "execution_count": 9,
     "metadata": {},
     "output_type": "execute_result"
    }
   ],
   "source": [
    "train['Children_Ratio'] = train['Total Children'] / train['Number of Children At Home']\n",
    "train['Children_Ratio'] = train['Children_Ratio'].replace([np.inf, -np.inf], 10)\n",
    "train['Children_Ratio'].fillna(0, inplace=True)\n",
    "train[['Total Children','Number of Children At Home','Children_Ratio']]"
   ]
  },
  {
   "cell_type": "code",
   "execution_count": 10,
   "id": "239fde38",
   "metadata": {
    "editable": false,
    "execution": {
     "iopub.execute_input": "2023-04-24T03:31:40.212057Z",
     "iopub.status.busy": "2023-04-24T03:31:40.210936Z",
     "iopub.status.idle": "2023-04-24T03:31:40.221459Z",
     "shell.execute_reply": "2023-04-24T03:31:40.220338Z"
    },
    "papermill": {
     "duration": 0.029394,
     "end_time": "2023-04-24T03:31:40.223839",
     "exception": false,
     "start_time": "2023-04-24T03:31:40.194445",
     "status": "completed"
    },
    "tags": []
   },
   "outputs": [
    {
     "data": {
      "text/plain": [
       "Store Sales(in millions)      float64\n",
       "Unit Sales(in millions)       float64\n",
       "Total Children                float64\n",
       "Number of Children At Home    float64\n",
       "Average of Car                float64\n",
       "Gross Weight                  float64\n",
       "Has Recyclable Package        float64\n",
       "Has Low Fat                   float64\n",
       "Units Per Case                float64\n",
       "Store Area                    float64\n",
       "Has Coffee Bar                float64\n",
       "Has Entertainment             float64\n",
       "Has Salad Bar                 float64\n",
       "Has Prepared Food             float64\n",
       "Has Florist                   float64\n",
       "Cost                          float64\n",
       "Children_Ratio                float64\n",
       "dtype: object"
      ]
     },
     "execution_count": 10,
     "metadata": {},
     "output_type": "execute_result"
    }
   ],
   "source": [
    "train.dtypes"
   ]
  },
  {
   "cell_type": "code",
   "execution_count": 11,
   "id": "d50b19b5",
   "metadata": {
    "editable": false,
    "execution": {
     "iopub.execute_input": "2023-04-24T03:31:40.257557Z",
     "iopub.status.busy": "2023-04-24T03:31:40.256885Z",
     "iopub.status.idle": "2023-04-24T03:31:40.357485Z",
     "shell.execute_reply": "2023-04-24T03:31:40.356073Z"
    },
    "papermill": {
     "duration": 0.120728,
     "end_time": "2023-04-24T03:31:40.360979",
     "exception": false,
     "start_time": "2023-04-24T03:31:40.240251",
     "status": "completed"
    },
    "tags": []
   },
   "outputs": [
    {
     "data": {
      "text/plain": [
       "Store Sales(in millions)      1044\n",
       "Unit Sales(in millions)          6\n",
       "Total Children                   6\n",
       "Number of Children At Home       6\n",
       "Average of Car                   5\n",
       "Gross Weight                   384\n",
       "Has Recyclable Package           2\n",
       "Has Low Fat                      2\n",
       "Units Per Case                  36\n",
       "Store Area                      20\n",
       "Has Coffee Bar                   2\n",
       "Has Entertainment                2\n",
       "Has Salad Bar                    2\n",
       "Has Prepared Food                2\n",
       "Has Florist                      2\n",
       "Cost                           328\n",
       "Children_Ratio                  14\n",
       "dtype: int64"
      ]
     },
     "execution_count": 11,
     "metadata": {},
     "output_type": "execute_result"
    }
   ],
   "source": [
    "train.nunique()"
   ]
  },
  {
   "cell_type": "markdown",
   "id": "7541cea9",
   "metadata": {
    "papermill": {
     "duration": 0.022025,
     "end_time": "2023-04-24T03:31:40.399358",
     "exception": false,
     "start_time": "2023-04-24T03:31:40.377333",
     "status": "completed"
    },
    "tags": []
   },
   "source": [
    "<div style=\"border-radius:10px; border:#DEB887 solid; padding: 15px; background-color: #FFFAF0; font-size:100%; text-align:left\">\n",
    "\n",
    "<h3 align=\"left\"><font color='#DEB887'>💡 Insights:</font></h3>\n",
    "\n",
    "* **There are many ordinal and categorical features, later we will extract them.**\n",
    "* **we can find that the feature of 'store_sqft' just have 20 different behavior, it is not common in the data with 360336 rows.\n",
    "Maybe 'store_sqft' represent 20 different stores.**"
   ]
  },
  {
   "cell_type": "markdown",
   "id": "29fa0d4f",
   "metadata": {
    "papermill": {
     "duration": 0.018311,
     "end_time": "2023-04-24T03:31:40.439427",
     "exception": false,
     "start_time": "2023-04-24T03:31:40.421116",
     "status": "completed"
    },
    "tags": []
   },
   "source": [
    "#### <p style=\"font-family:JetBrains Mono; font-weight:bold; letter-spacing: 0px; color:#006600; font-size:90%; text-align:left;padding: 0px;\"> Valiate the feature of 'Store Area' whether represent 20 different stores below :</p>"
   ]
  },
  {
   "cell_type": "code",
   "execution_count": 12,
   "id": "7ed3d81f",
   "metadata": {
    "editable": false,
    "execution": {
     "iopub.execute_input": "2023-04-24T03:31:40.472943Z",
     "iopub.status.busy": "2023-04-24T03:31:40.471481Z",
     "iopub.status.idle": "2023-04-24T03:31:40.722105Z",
     "shell.execute_reply": "2023-04-24T03:31:40.720806Z"
    },
    "papermill": {
     "duration": 0.270065,
     "end_time": "2023-04-24T03:31:40.724682",
     "exception": false,
     "start_time": "2023-04-24T03:31:40.454617",
     "status": "completed"
    },
    "tags": []
   },
   "outputs": [
    {
     "data": {
      "text/html": [
       "<div>\n",
       "<style scoped>\n",
       "    .dataframe tbody tr th:only-of-type {\n",
       "        vertical-align: middle;\n",
       "    }\n",
       "\n",
       "    .dataframe tbody tr th {\n",
       "        vertical-align: top;\n",
       "    }\n",
       "\n",
       "    .dataframe thead th {\n",
       "        text-align: right;\n",
       "    }\n",
       "</style>\n",
       "<table border=\"1\" class=\"dataframe\">\n",
       "  <thead>\n",
       "    <tr style=\"text-align: right;\">\n",
       "      <th></th>\n",
       "      <th>Has Florist</th>\n",
       "      <th>Has Prepared Food</th>\n",
       "      <th>Has Coffee Bar</th>\n",
       "      <th>Has Entertainment</th>\n",
       "      <th>Has Salad Bar</th>\n",
       "    </tr>\n",
       "    <tr>\n",
       "      <th>Store Area</th>\n",
       "      <th></th>\n",
       "      <th></th>\n",
       "      <th></th>\n",
       "      <th></th>\n",
       "      <th></th>\n",
       "    </tr>\n",
       "  </thead>\n",
       "  <tbody>\n",
       "    <tr>\n",
       "      <th>20319.0</th>\n",
       "      <td>1</td>\n",
       "      <td>1</td>\n",
       "      <td>2</td>\n",
       "      <td>1</td>\n",
       "      <td>1</td>\n",
       "    </tr>\n",
       "    <tr>\n",
       "      <th>21215.0</th>\n",
       "      <td>2</td>\n",
       "      <td>2</td>\n",
       "      <td>1</td>\n",
       "      <td>1</td>\n",
       "      <td>2</td>\n",
       "    </tr>\n",
       "    <tr>\n",
       "      <th>22478.0</th>\n",
       "      <td>2</td>\n",
       "      <td>2</td>\n",
       "      <td>2</td>\n",
       "      <td>1</td>\n",
       "      <td>2</td>\n",
       "    </tr>\n",
       "    <tr>\n",
       "      <th>23112.0</th>\n",
       "      <td>2</td>\n",
       "      <td>2</td>\n",
       "      <td>2</td>\n",
       "      <td>2</td>\n",
       "      <td>2</td>\n",
       "    </tr>\n",
       "    <tr>\n",
       "      <th>23593.0</th>\n",
       "      <td>2</td>\n",
       "      <td>1</td>\n",
       "      <td>2</td>\n",
       "      <td>1</td>\n",
       "      <td>1</td>\n",
       "    </tr>\n",
       "    <tr>\n",
       "      <th>23598.0</th>\n",
       "      <td>2</td>\n",
       "      <td>2</td>\n",
       "      <td>2</td>\n",
       "      <td>1</td>\n",
       "      <td>2</td>\n",
       "    </tr>\n",
       "    <tr>\n",
       "      <th>23688.0</th>\n",
       "      <td>2</td>\n",
       "      <td>2</td>\n",
       "      <td>1</td>\n",
       "      <td>2</td>\n",
       "      <td>2</td>\n",
       "    </tr>\n",
       "    <tr>\n",
       "      <th>23759.0</th>\n",
       "      <td>2</td>\n",
       "      <td>2</td>\n",
       "      <td>2</td>\n",
       "      <td>1</td>\n",
       "      <td>2</td>\n",
       "    </tr>\n",
       "    <tr>\n",
       "      <th>24597.0</th>\n",
       "      <td>2</td>\n",
       "      <td>2</td>\n",
       "      <td>1</td>\n",
       "      <td>2</td>\n",
       "      <td>2</td>\n",
       "    </tr>\n",
       "    <tr>\n",
       "      <th>27694.0</th>\n",
       "      <td>2</td>\n",
       "      <td>2</td>\n",
       "      <td>1</td>\n",
       "      <td>2</td>\n",
       "      <td>2</td>\n",
       "    </tr>\n",
       "    <tr>\n",
       "      <th>28206.0</th>\n",
       "      <td>2</td>\n",
       "      <td>2</td>\n",
       "      <td>2</td>\n",
       "      <td>1</td>\n",
       "      <td>2</td>\n",
       "    </tr>\n",
       "    <tr>\n",
       "      <th>30268.0</th>\n",
       "      <td>2</td>\n",
       "      <td>2</td>\n",
       "      <td>2</td>\n",
       "      <td>1</td>\n",
       "      <td>2</td>\n",
       "    </tr>\n",
       "    <tr>\n",
       "      <th>30584.0</th>\n",
       "      <td>2</td>\n",
       "      <td>2</td>\n",
       "      <td>2</td>\n",
       "      <td>2</td>\n",
       "      <td>2</td>\n",
       "    </tr>\n",
       "    <tr>\n",
       "      <th>30797.0</th>\n",
       "      <td>2</td>\n",
       "      <td>2</td>\n",
       "      <td>1</td>\n",
       "      <td>2</td>\n",
       "      <td>2</td>\n",
       "    </tr>\n",
       "    <tr>\n",
       "      <th>33858.0</th>\n",
       "      <td>2</td>\n",
       "      <td>2</td>\n",
       "      <td>2</td>\n",
       "      <td>1</td>\n",
       "      <td>2</td>\n",
       "    </tr>\n",
       "    <tr>\n",
       "      <th>34452.0</th>\n",
       "      <td>2</td>\n",
       "      <td>2</td>\n",
       "      <td>2</td>\n",
       "      <td>1</td>\n",
       "      <td>2</td>\n",
       "    </tr>\n",
       "    <tr>\n",
       "      <th>34791.0</th>\n",
       "      <td>1</td>\n",
       "      <td>1</td>\n",
       "      <td>1</td>\n",
       "      <td>1</td>\n",
       "      <td>1</td>\n",
       "    </tr>\n",
       "    <tr>\n",
       "      <th>36509.0</th>\n",
       "      <td>2</td>\n",
       "      <td>2</td>\n",
       "      <td>2</td>\n",
       "      <td>1</td>\n",
       "      <td>1</td>\n",
       "    </tr>\n",
       "    <tr>\n",
       "      <th>38382.0</th>\n",
       "      <td>2</td>\n",
       "      <td>2</td>\n",
       "      <td>2</td>\n",
       "      <td>1</td>\n",
       "      <td>2</td>\n",
       "    </tr>\n",
       "    <tr>\n",
       "      <th>39696.0</th>\n",
       "      <td>2</td>\n",
       "      <td>2</td>\n",
       "      <td>2</td>\n",
       "      <td>1</td>\n",
       "      <td>2</td>\n",
       "    </tr>\n",
       "  </tbody>\n",
       "</table>\n",
       "</div>"
      ],
      "text/plain": [
       "            Has Florist  Has Prepared Food  Has Coffee Bar  Has Entertainment  \\\n",
       "Store Area                                                                      \n",
       "20319.0               1                  1               2                  1   \n",
       "21215.0               2                  2               1                  1   \n",
       "22478.0               2                  2               2                  1   \n",
       "23112.0               2                  2               2                  2   \n",
       "23593.0               2                  1               2                  1   \n",
       "23598.0               2                  2               2                  1   \n",
       "23688.0               2                  2               1                  2   \n",
       "23759.0               2                  2               2                  1   \n",
       "24597.0               2                  2               1                  2   \n",
       "27694.0               2                  2               1                  2   \n",
       "28206.0               2                  2               2                  1   \n",
       "30268.0               2                  2               2                  1   \n",
       "30584.0               2                  2               2                  2   \n",
       "30797.0               2                  2               1                  2   \n",
       "33858.0               2                  2               2                  1   \n",
       "34452.0               2                  2               2                  1   \n",
       "34791.0               1                  1               1                  1   \n",
       "36509.0               2                  2               2                  1   \n",
       "38382.0               2                  2               2                  1   \n",
       "39696.0               2                  2               2                  1   \n",
       "\n",
       "            Has Salad Bar  \n",
       "Store Area                 \n",
       "20319.0                 1  \n",
       "21215.0                 2  \n",
       "22478.0                 2  \n",
       "23112.0                 2  \n",
       "23593.0                 1  \n",
       "23598.0                 2  \n",
       "23688.0                 2  \n",
       "23759.0                 2  \n",
       "24597.0                 2  \n",
       "27694.0                 2  \n",
       "28206.0                 2  \n",
       "30268.0                 2  \n",
       "30584.0                 2  \n",
       "30797.0                 2  \n",
       "33858.0                 2  \n",
       "34452.0                 2  \n",
       "34791.0                 1  \n",
       "36509.0                 1  \n",
       "38382.0                 2  \n",
       "39696.0                 2  "
      ]
     },
     "execution_count": 12,
     "metadata": {},
     "output_type": "execute_result"
    }
   ],
   "source": [
    "store_features = ['Has Florist','Has Prepared Food','Has Coffee Bar','Has Entertainment','Has Salad Bar']\n",
    "train.groupby('Store Area')[store_features].nunique()"
   ]
  },
  {
   "cell_type": "markdown",
   "id": "61e3715a",
   "metadata": {
    "papermill": {
     "duration": 0.015309,
     "end_time": "2023-04-24T03:31:40.755811",
     "exception": false,
     "start_time": "2023-04-24T03:31:40.740502",
     "status": "completed"
    },
    "tags": []
   },
   "source": [
    "<div style=\"border-radius:10px; border:#DEB887 solid; padding: 15px; background-color: #FFFAF0; font-size:100%; text-align:left\">\n",
    "\n",
    "<h3 align=\"left\"><font color='#DEB887'>Explanation:</font></h3>\n",
    "\n",
    "* Grouping by the 'store_features', if all the value of table above for each row is 1, it means that the each 'store_sqft' represent a store individly. But disappointing it has many '2' in the table.\n",
    "* Maybe it is something wrong in recording of the raw data, or the store only locating in some specified market which have the same 'sqft', but I doubt it.\n",
    "Now I assume the former is correct, and I prove it below."
   ]
  },
  {
   "cell_type": "code",
   "execution_count": 13,
   "id": "ba04ce3f",
   "metadata": {
    "editable": false,
    "execution": {
     "iopub.execute_input": "2023-04-24T03:31:40.790819Z",
     "iopub.status.busy": "2023-04-24T03:31:40.789647Z",
     "iopub.status.idle": "2023-04-24T03:31:40.839938Z",
     "shell.execute_reply": "2023-04-24T03:31:40.838610Z"
    },
    "papermill": {
     "duration": 0.069518,
     "end_time": "2023-04-24T03:31:40.842444",
     "exception": false,
     "start_time": "2023-04-24T03:31:40.772926",
     "status": "completed"
    },
    "tags": []
   },
   "outputs": [
    {
     "data": {
      "text/html": [
       "<div>\n",
       "<style scoped>\n",
       "    .dataframe tbody tr th:only-of-type {\n",
       "        vertical-align: middle;\n",
       "    }\n",
       "\n",
       "    .dataframe tbody tr th {\n",
       "        vertical-align: top;\n",
       "    }\n",
       "\n",
       "    .dataframe thead th {\n",
       "        text-align: right;\n",
       "    }\n",
       "</style>\n",
       "<table border=\"1\" class=\"dataframe\">\n",
       "  <thead>\n",
       "    <tr style=\"text-align: right;\">\n",
       "      <th></th>\n",
       "      <th>Has Florist</th>\n",
       "      <th>Has Prepared Food</th>\n",
       "      <th>Has Coffee Bar</th>\n",
       "      <th>Has Entertainment</th>\n",
       "      <th>Has Salad Bar</th>\n",
       "    </tr>\n",
       "    <tr>\n",
       "      <th>Store Area</th>\n",
       "      <th></th>\n",
       "      <th></th>\n",
       "      <th></th>\n",
       "      <th></th>\n",
       "      <th></th>\n",
       "    </tr>\n",
       "  </thead>\n",
       "  <tbody>\n",
       "    <tr>\n",
       "      <th>20319.0</th>\n",
       "      <td>0.000000</td>\n",
       "      <td>0.000000</td>\n",
       "      <td>1.171514</td>\n",
       "      <td>0.000000</td>\n",
       "      <td>0.000000</td>\n",
       "    </tr>\n",
       "    <tr>\n",
       "      <th>21215.0</th>\n",
       "      <td>0.141478</td>\n",
       "      <td>0.003144</td>\n",
       "      <td>100.000000</td>\n",
       "      <td>0.000000</td>\n",
       "      <td>0.003144</td>\n",
       "    </tr>\n",
       "    <tr>\n",
       "      <th>22478.0</th>\n",
       "      <td>0.300793</td>\n",
       "      <td>0.177741</td>\n",
       "      <td>99.986328</td>\n",
       "      <td>0.000000</td>\n",
       "      <td>0.191414</td>\n",
       "    </tr>\n",
       "    <tr>\n",
       "      <th>23112.0</th>\n",
       "      <td>99.724177</td>\n",
       "      <td>98.716578</td>\n",
       "      <td>99.988742</td>\n",
       "      <td>98.238109</td>\n",
       "      <td>98.716578</td>\n",
       "    </tr>\n",
       "    <tr>\n",
       "      <th>23593.0</th>\n",
       "      <td>0.597794</td>\n",
       "      <td>0.000000</td>\n",
       "      <td>1.338722</td>\n",
       "      <td>0.000000</td>\n",
       "      <td>0.000000</td>\n",
       "    </tr>\n",
       "    <tr>\n",
       "      <th>23598.0</th>\n",
       "      <td>99.868505</td>\n",
       "      <td>0.026973</td>\n",
       "      <td>1.807209</td>\n",
       "      <td>0.000000</td>\n",
       "      <td>0.026973</td>\n",
       "    </tr>\n",
       "    <tr>\n",
       "      <th>23688.0</th>\n",
       "      <td>99.993778</td>\n",
       "      <td>99.446242</td>\n",
       "      <td>100.000000</td>\n",
       "      <td>97.660528</td>\n",
       "      <td>99.446242</td>\n",
       "    </tr>\n",
       "    <tr>\n",
       "      <th>23759.0</th>\n",
       "      <td>99.765635</td>\n",
       "      <td>99.805812</td>\n",
       "      <td>99.752243</td>\n",
       "      <td>0.000000</td>\n",
       "      <td>99.805812</td>\n",
       "    </tr>\n",
       "    <tr>\n",
       "      <th>24597.0</th>\n",
       "      <td>0.086059</td>\n",
       "      <td>0.028686</td>\n",
       "      <td>100.000000</td>\n",
       "      <td>0.028686</td>\n",
       "      <td>0.057372</td>\n",
       "    </tr>\n",
       "    <tr>\n",
       "      <th>27694.0</th>\n",
       "      <td>99.973580</td>\n",
       "      <td>99.980185</td>\n",
       "      <td>100.000000</td>\n",
       "      <td>99.940555</td>\n",
       "      <td>99.980185</td>\n",
       "    </tr>\n",
       "    <tr>\n",
       "      <th>28206.0</th>\n",
       "      <td>0.132606</td>\n",
       "      <td>0.029468</td>\n",
       "      <td>97.686754</td>\n",
       "      <td>0.000000</td>\n",
       "      <td>0.029468</td>\n",
       "    </tr>\n",
       "    <tr>\n",
       "      <th>30268.0</th>\n",
       "      <td>0.134641</td>\n",
       "      <td>0.053857</td>\n",
       "      <td>0.977111</td>\n",
       "      <td>0.000000</td>\n",
       "      <td>0.026928</td>\n",
       "    </tr>\n",
       "    <tr>\n",
       "      <th>30584.0</th>\n",
       "      <td>99.608175</td>\n",
       "      <td>99.162569</td>\n",
       "      <td>99.531346</td>\n",
       "      <td>97.495390</td>\n",
       "      <td>99.162569</td>\n",
       "    </tr>\n",
       "    <tr>\n",
       "      <th>30797.0</th>\n",
       "      <td>99.934078</td>\n",
       "      <td>99.971159</td>\n",
       "      <td>100.000000</td>\n",
       "      <td>98.281900</td>\n",
       "      <td>99.971159</td>\n",
       "    </tr>\n",
       "    <tr>\n",
       "      <th>33858.0</th>\n",
       "      <td>98.891389</td>\n",
       "      <td>98.610100</td>\n",
       "      <td>99.771659</td>\n",
       "      <td>0.000000</td>\n",
       "      <td>98.610100</td>\n",
       "    </tr>\n",
       "    <tr>\n",
       "      <th>34452.0</th>\n",
       "      <td>99.435984</td>\n",
       "      <td>0.206806</td>\n",
       "      <td>99.981199</td>\n",
       "      <td>0.000000</td>\n",
       "      <td>0.150404</td>\n",
       "    </tr>\n",
       "    <tr>\n",
       "      <th>34791.0</th>\n",
       "      <td>0.000000</td>\n",
       "      <td>100.000000</td>\n",
       "      <td>0.000000</td>\n",
       "      <td>0.000000</td>\n",
       "      <td>100.000000</td>\n",
       "    </tr>\n",
       "    <tr>\n",
       "      <th>36509.0</th>\n",
       "      <td>0.051541</td>\n",
       "      <td>0.010308</td>\n",
       "      <td>1.412226</td>\n",
       "      <td>0.000000</td>\n",
       "      <td>0.000000</td>\n",
       "    </tr>\n",
       "    <tr>\n",
       "      <th>38382.0</th>\n",
       "      <td>0.285645</td>\n",
       "      <td>0.018233</td>\n",
       "      <td>6.326729</td>\n",
       "      <td>0.000000</td>\n",
       "      <td>0.018233</td>\n",
       "    </tr>\n",
       "    <tr>\n",
       "      <th>39696.0</th>\n",
       "      <td>0.563738</td>\n",
       "      <td>99.994921</td>\n",
       "      <td>0.619604</td>\n",
       "      <td>0.000000</td>\n",
       "      <td>99.994921</td>\n",
       "    </tr>\n",
       "  </tbody>\n",
       "</table>\n",
       "</div>"
      ],
      "text/plain": [
       "            Has Florist  Has Prepared Food  Has Coffee Bar  Has Entertainment  \\\n",
       "Store Area                                                                      \n",
       "20319.0        0.000000           0.000000        1.171514           0.000000   \n",
       "21215.0        0.141478           0.003144      100.000000           0.000000   \n",
       "22478.0        0.300793           0.177741       99.986328           0.000000   \n",
       "23112.0       99.724177          98.716578       99.988742          98.238109   \n",
       "23593.0        0.597794           0.000000        1.338722           0.000000   \n",
       "23598.0       99.868505           0.026973        1.807209           0.000000   \n",
       "23688.0       99.993778          99.446242      100.000000          97.660528   \n",
       "23759.0       99.765635          99.805812       99.752243           0.000000   \n",
       "24597.0        0.086059           0.028686      100.000000           0.028686   \n",
       "27694.0       99.973580          99.980185      100.000000          99.940555   \n",
       "28206.0        0.132606           0.029468       97.686754           0.000000   \n",
       "30268.0        0.134641           0.053857        0.977111           0.000000   \n",
       "30584.0       99.608175          99.162569       99.531346          97.495390   \n",
       "30797.0       99.934078          99.971159      100.000000          98.281900   \n",
       "33858.0       98.891389          98.610100       99.771659           0.000000   \n",
       "34452.0       99.435984           0.206806       99.981199           0.000000   \n",
       "34791.0        0.000000         100.000000        0.000000           0.000000   \n",
       "36509.0        0.051541           0.010308        1.412226           0.000000   \n",
       "38382.0        0.285645           0.018233        6.326729           0.000000   \n",
       "39696.0        0.563738          99.994921        0.619604           0.000000   \n",
       "\n",
       "            Has Salad Bar  \n",
       "Store Area                 \n",
       "20319.0          0.000000  \n",
       "21215.0          0.003144  \n",
       "22478.0          0.191414  \n",
       "23112.0         98.716578  \n",
       "23593.0          0.000000  \n",
       "23598.0          0.026973  \n",
       "23688.0         99.446242  \n",
       "23759.0         99.805812  \n",
       "24597.0          0.057372  \n",
       "27694.0         99.980185  \n",
       "28206.0          0.029468  \n",
       "30268.0          0.026928  \n",
       "30584.0         99.162569  \n",
       "30797.0         99.971159  \n",
       "33858.0         98.610100  \n",
       "34452.0          0.150404  \n",
       "34791.0        100.000000  \n",
       "36509.0          0.000000  \n",
       "38382.0          0.018233  \n",
       "39696.0         99.994921  "
      ]
     },
     "execution_count": 13,
     "metadata": {},
     "output_type": "execute_result"
    }
   ],
   "source": [
    "store_category = train.groupby('Store Area')[store_features]\n",
    "one_rate = (store_category.sum() / store_category.count())*100\n",
    "one_rate"
   ]
  },
  {
   "cell_type": "markdown",
   "id": "7e8b255a",
   "metadata": {
    "papermill": {
     "duration": 0.015169,
     "end_time": "2023-04-24T03:31:40.873192",
     "exception": false,
     "start_time": "2023-04-24T03:31:40.858023",
     "status": "completed"
    },
    "tags": []
   },
   "source": [
    "<div style=\"border-radius:10px; border:#DEB887 solid; padding: 15px; background-color: #FFFAF0; font-size:100%; text-align:left\">\n",
    "\n",
    "<h3 align=\"left\"><font color='#DEB887'>Explanation:</font></h3>\n",
    "\n",
    "* Cause all the feature in 'store_features' are binary(0 or 1), so I apply the function \"sum()\" means that there are how many values of those feature are equal to '1'. The 'count()' is to calculate the number of features(no matter 0 or 1). </br>\n",
    "* So \"sum() / count()\" means that the value '1' proportion of the feature.</br>\n",
    "* If the 'one_rate' all approach to 100% or 0%, and no middle value, it reveal that it has outlier data. And the assumption of \"something wrong in recording\" is properly correct"
   ]
  },
  {
   "cell_type": "code",
   "execution_count": 14,
   "id": "f97474e6",
   "metadata": {
    "editable": false,
    "execution": {
     "iopub.execute_input": "2023-04-24T03:31:40.917241Z",
     "iopub.status.busy": "2023-04-24T03:31:40.915180Z",
     "iopub.status.idle": "2023-04-24T03:31:41.698414Z",
     "shell.execute_reply": "2023-04-24T03:31:41.697177Z"
    },
    "papermill": {
     "duration": 0.80824,
     "end_time": "2023-04-24T03:31:41.700867",
     "exception": false,
     "start_time": "2023-04-24T03:31:40.892627",
     "status": "completed"
    },
    "tags": []
   },
   "outputs": [
    {
     "data": {
      "text/plain": [
       "<Axes: xlabel='Store Area'>"
      ]
     },
     "execution_count": 14,
     "metadata": {},
     "output_type": "execute_result"
    },
    {
     "data": {
      "image/png": "[encoded data removed]",
      "text/plain": [
       "<Figure size 2000x1000 with 1 Axes>"
      ]
     },
     "metadata": {},
     "output_type": "display_data"
    }
   ],
   "source": [
    "one_rate.plot(kind='bar',figsize=(20,10))"
   ]
  },
  {
   "cell_type": "markdown",
   "id": "91bc9dfb",
   "metadata": {
    "papermill": {
     "duration": 0.01613,
     "end_time": "2023-04-24T03:31:41.733792",
     "exception": false,
     "start_time": "2023-04-24T03:31:41.717662",
     "status": "completed"
    },
    "tags": []
   },
   "source": [
    "<div style=\"border-radius:10px; border:#DEB887 solid; padding: 15px; background-color: #FFFAF0; font-size:100%; text-align:left\">\n",
    "\n",
    "<h3 align=\"left\"><font color='#DEB887'>Insights:</font></h3>\n",
    "\n",
    "* Now,by watching this chart, we can directly know all this feature approach to 100% or 0%, and no middle value</br>\n",
    "* **💡 conclusion: It is just only 20 stores in the data of train.**"
   ]
  },
  {
   "cell_type": "markdown",
   "id": "78fb1d81",
   "metadata": {
    "papermill": {
     "duration": 0.016131,
     "end_time": "2023-04-24T03:31:41.766185",
     "exception": false,
     "start_time": "2023-04-24T03:31:41.750054",
     "status": "completed"
    },
    "tags": []
   },
   "source": [
    "**Convert the type :**"
   ]
  },
  {
   "cell_type": "code",
   "execution_count": 15,
   "id": "729d99c0",
   "metadata": {
    "editable": false,
    "execution": {
     "iopub.execute_input": "2023-04-24T03:31:41.800986Z",
     "iopub.status.busy": "2023-04-24T03:31:41.800524Z",
     "iopub.status.idle": "2023-04-24T03:31:41.948097Z",
     "shell.execute_reply": "2023-04-24T03:31:41.947221Z"
    },
    "papermill": {
     "duration": 0.167851,
     "end_time": "2023-04-24T03:31:41.950440",
     "exception": false,
     "start_time": "2023-04-24T03:31:41.782589",
     "status": "completed"
    },
    "tags": []
   },
   "outputs": [
    {
     "data": {
      "text/plain": [
       "Store Sales(in millions)      Float64\n",
       "Unit Sales(in millions)         Int64\n",
       "Total Children                  Int64\n",
       "Number of Children At Home      Int64\n",
       "Average of Car                  Int64\n",
       "Gross Weight                  Float64\n",
       "Has Recyclable Package          Int64\n",
       "Has Low Fat                     Int64\n",
       "Units Per Case                  Int64\n",
       "Store Area                      Int64\n",
       "Has Coffee Bar                  Int64\n",
       "Has Entertainment               Int64\n",
       "Has Salad Bar                   Int64\n",
       "Has Prepared Food               Int64\n",
       "Has Florist                     Int64\n",
       "Cost                          Float64\n",
       "Children_Ratio                Float64\n",
       "dtype: object"
      ]
     },
     "execution_count": 15,
     "metadata": {},
     "output_type": "execute_result"
    }
   ],
   "source": [
    "train = train.convert_dtypes()\n",
    "train.dtypes"
   ]
  },
  {
   "cell_type": "markdown",
   "id": "0b3c37e2",
   "metadata": {
    "papermill": {
     "duration": 0.01627,
     "end_time": "2023-04-24T03:31:41.983305",
     "exception": false,
     "start_time": "2023-04-24T03:31:41.967035",
     "status": "completed"
    },
    "tags": []
   },
   "source": [
    "#### <p style=\"font-family:JetBrains Mono; font-weight:bold; letter-spacing: 2px; color:#006600; font-size:140%; text-align:left;padding: 0px; border-bottom: 3px solid #003300\">2.2 Correlation Analysis</p>"
   ]
  },
  {
   "cell_type": "markdown",
   "id": "b62b874f",
   "metadata": {
    "papermill": {
     "duration": 0.016204,
     "end_time": "2023-04-24T03:31:42.015980",
     "exception": false,
     "start_time": "2023-04-24T03:31:41.999776",
     "status": "completed"
    },
    "tags": []
   },
   "source": [
    "<div class=\"alert alert-block alert-success\" style=\"font-size:14px; font-family:verdana; line-height: 1.7em;\">\n",
    "Before analyse the correlation of each feature, we should divide the feature into Continuous Features and Discrete Features，and more specifically Discrete Features also can divide into ordinal Features and Category Features\n",
    "    \n",
    "</div>"
   ]
  },
  {
   "cell_type": "code",
   "execution_count": 16,
   "id": "84d11dd5",
   "metadata": {
    "execution": {
     "iopub.execute_input": "2023-04-24T03:31:42.051817Z",
     "iopub.status.busy": "2023-04-24T03:31:42.050743Z",
     "iopub.status.idle": "2023-04-24T03:31:42.056671Z",
     "shell.execute_reply": "2023-04-24T03:31:42.055669Z"
    },
    "papermill": {
     "duration": 0.026366,
     "end_time": "2023-04-24T03:31:42.059034",
     "exception": false,
     "start_time": "2023-04-24T03:31:42.032668",
     "status": "completed"
    },
    "tags": []
   },
   "outputs": [],
   "source": [
    "continuous_features = ['Store Sales(in millions)','Unit Sales(in millions)','Gross Weight','Cost']\n",
    "ordinal_features=['Average of Car','Total Children','Store Area', 'Units Per Case']\n",
    "category_features=['Has Recyclable Package','Has Low Fat','Has Coffee Bar','Has Entertainment','Has Salad Bar','Has Prepared Food','Has Florist']\n",
    "discrete_features=ordinal_features + category_features"
   ]
  },
  {
   "cell_type": "markdown",
   "id": "eb01bd22",
   "metadata": {
    "papermill": {
     "duration": 0.016337,
     "end_time": "2023-04-24T03:31:42.092128",
     "exception": false,
     "start_time": "2023-04-24T03:31:42.075791",
     "status": "completed"
    },
    "tags": []
   },
   "source": [
    "##### <p style=\"font-family:JetBrains Mono; font-weight:bold; letter-spacing: 2px; color:#006600; font-size:140%; text-align:left;padding: 0px; border-bottom: 3px solid #003300\">2.1.1 Continuous Features</p>"
   ]
  },
  {
   "cell_type": "code",
   "execution_count": 17,
   "id": "66449ab0",
   "metadata": {
    "editable": false,
    "execution": {
     "iopub.execute_input": "2023-04-24T03:31:42.127584Z",
     "iopub.status.busy": "2023-04-24T03:31:42.126769Z",
     "iopub.status.idle": "2023-04-24T03:31:42.573216Z",
     "shell.execute_reply": "2023-04-24T03:31:42.571804Z"
    },
    "papermill": {
     "duration": 0.467455,
     "end_time": "2023-04-24T03:31:42.576144",
     "exception": false,
     "start_time": "2023-04-24T03:31:42.108689",
     "status": "completed"
    },
    "tags": []
   },
   "outputs": [
    {
     "data": {
      "text/plain": [
       "Text(0.5, 1.0, 'Continuous Feature Correlations')"
      ]
     },
     "execution_count": 17,
     "metadata": {},
     "output_type": "execute_result"
    },
    {
     "data": {
      "image/png": "[encoded data removed]",
      "text/plain": [
       "<Figure size 1200x1200 with 2 Axes>"
      ]
     },
     "metadata": {},
     "output_type": "display_data"
    }
   ],
   "source": [
    "continuous_features_corr = train[continuous_features].corr()\n",
    "fig, axes = plt.subplots(figsize = (12,12))\n",
    "mask = np.zeros_like(continuous_features_corr)\n",
    "mask[np.triu_indices_from(mask)] = True\n",
    "sns.heatmap(continuous_features_corr,mask=mask,linewidths=0.5,square=True,linecolor=\"white\",annot=True,cmap=sns.diverging_palette(230, 20, as_cmap = True),vmin=-1,vmax=1)\n",
    "plt.title(\"Continuous Feature Correlations\")"
   ]
  },
  {
   "cell_type": "markdown",
   "id": "e3746c59",
   "metadata": {
    "papermill": {
     "duration": 0.017314,
     "end_time": "2023-04-24T03:31:42.611922",
     "exception": false,
     "start_time": "2023-04-24T03:31:42.594608",
     "status": "completed"
    },
    "tags": []
   },
   "source": [
    "<div style=\"border-radius:1px; border:#DEB887 solid; padding: 10px; background-color: #FFFAF0; font-size:100%; text-align:left\">\n",
    "\n",
    "<h3 align=\"left\"><font color='#DEB887'>Insights:</font></h3>\n",
    "\n",
    "**It look like that all this features with no correlation to 'Cost', considering to drop it later**"
   ]
  },
  {
   "cell_type": "markdown",
   "id": "af0bc0d7",
   "metadata": {
    "papermill": {
     "duration": 0.017361,
     "end_time": "2023-04-24T03:31:42.646979",
     "exception": false,
     "start_time": "2023-04-24T03:31:42.629618",
     "status": "completed"
    },
    "tags": []
   },
   "source": [
    "##### <p style=\"font-family:JetBrains Mono; font-weight:bold; letter-spacing: 2px; color:#006600; font-size:140%; text-align:left;padding: 0px; border-bottom: 3px solid #003300\">2.1.2 Discrete Features</p>"
   ]
  },
  {
   "cell_type": "code",
   "execution_count": 18,
   "id": "edfc1da6",
   "metadata": {
    "editable": false,
    "execution": {
     "iopub.execute_input": "2023-04-24T03:31:42.685890Z",
     "iopub.status.busy": "2023-04-24T03:31:42.684583Z",
     "iopub.status.idle": "2023-04-24T03:31:46.379928Z",
     "shell.execute_reply": "2023-04-24T03:31:46.378317Z"
    },
    "papermill": {
     "duration": 3.718408,
     "end_time": "2023-04-24T03:31:46.383136",
     "exception": false,
     "start_time": "2023-04-24T03:31:42.664728",
     "status": "completed"
    },
    "tags": []
   },
   "outputs": [
    {
     "data": {
      "image/png": "[encoded data removed]",
      "text/plain": [
       "<Figure size 1800x1200 with 8 Axes>"
      ]
     },
     "metadata": {},
     "output_type": "display_data"
    }
   ],
   "source": [
    "train_category = train.copy()\n",
    "train_category[category_features] = train_category[category_features].astype('category')\n",
    "\n",
    "col_num = 4\n",
    "row_num = int(np.ceil(len(category_features) / col_num))\n",
    "figure, axes = plt.subplots(nrows=row_num, ncols=col_num,figsize=(18, row_num * 6))\n",
    "\n",
    "axes = axes.flatten()\n",
    "figure.suptitle(\n",
    "    'Distribution of Categorical Features Compared to the Costs',\n",
    "    ha='center', fontweight='bold', fontsize=15, y=1\n",
    ")\n",
    "\n",
    "for ax, column in enumerate(category_features):\n",
    "    sns.boxplot(data=train_category, x='Cost', y=column, ax=axes[ax])\n",
    "    axes[ax].set_xlabel('Costs', fontsize=14)\n",
    "    axes[ax].set_ylabel(None)\n",
    "    axes[ax].set_title(column, fontsize=16)\n",
    "figure.tight_layout(pad=6)\n",
    "plt.show()"
   ]
  },
  {
   "cell_type": "markdown",
   "id": "c20a0978",
   "metadata": {
    "papermill": {
     "duration": 0.019285,
     "end_time": "2023-04-24T03:31:46.422536",
     "exception": false,
     "start_time": "2023-04-24T03:31:46.403251",
     "status": "completed"
    },
    "tags": []
   },
   "source": [
    "<div style=\"border-radius:10px; border:#DEB887 solid; padding: 15px; background-color: #FFFAF0; font-size:100%; text-align:left\">\n",
    "\n",
    "<h3 align=\"left\"><font color='#DEB887'>💡 Insights:</font></h3>\n",
    "\n",
    "**The feature 'Has Recyclable Package' and 'Has Low Fat' has no much correlation with 'Cost',we can consider to drop it. And we can find that the cost are higher when the value of remaining features is 0.**"
   ]
  },
  {
   "cell_type": "code",
   "execution_count": 19,
   "id": "47c3e361",
   "metadata": {
    "execution": {
     "iopub.execute_input": "2023-04-24T03:31:46.462569Z",
     "iopub.status.busy": "2023-04-24T03:31:46.462168Z",
     "iopub.status.idle": "2023-04-24T03:31:49.435354Z",
     "shell.execute_reply": "2023-04-24T03:31:49.434049Z"
    },
    "papermill": {
     "duration": 2.997889,
     "end_time": "2023-04-24T03:31:49.439559",
     "exception": false,
     "start_time": "2023-04-24T03:31:46.441670",
     "status": "completed"
    },
    "tags": []
   },
   "outputs": [
    {
     "data": {
      "image/png": "[encoded data removed]",
      "text/plain": [
       "<Figure size 1800x1200 with 4 Axes>"
      ]
     },
     "metadata": {},
     "output_type": "display_data"
    }
   ],
   "source": [
    "train_ordinal = train.copy()\n",
    "train_ordinal[ordinal_features] = train_ordinal[ordinal_features].astype('category')\n",
    "\n",
    "col_num = 2\n",
    "row_num = int(np.ceil(len(ordinal_features) / col_num))\n",
    "figure, axes = plt.subplots(nrows=row_num, ncols=col_num,figsize=(18, row_num * 6))\n",
    "\n",
    "axes = axes.flatten()\n",
    "figure.suptitle(\n",
    "    'Distribution of Ordinal Features Compared to the Costs',\n",
    "    ha='center', fontweight='bold', fontsize=15, y=1\n",
    ")\n",
    "\n",
    "for ax, column in enumerate(ordinal_features):\n",
    "    sns.boxplot(data=train_ordinal, x='Cost', y=column, ax=axes[ax])\n",
    "    axes[ax].set_xlabel('Costs', fontsize=14)\n",
    "    axes[ax].set_ylabel(None)\n",
    "    axes[ax].set_title(column, fontsize=16)\n",
    "figure.tight_layout(pad=6)\n",
    "plt.show()"
   ]
  },
  {
   "cell_type": "markdown",
   "id": "dd0c243f",
   "metadata": {
    "papermill": {
     "duration": 0.022942,
     "end_time": "2023-04-24T03:31:49.485270",
     "exception": false,
     "start_time": "2023-04-24T03:31:49.462328",
     "status": "completed"
    },
    "tags": []
   },
   "source": [
    "<div style=\"border-radius:10px; border:#DEB887 solid; padding: 15px; background-color: #FFFAF0; font-size:100%; text-align:left\">\n",
    "\n",
    "<h3 align=\"left\"><font color='#DEB887'>Insights:</font></h3>\n",
    "Feature 'Units Per Case' seem with no correlation to 'Cost', drop it later"
   ]
  },
  {
   "cell_type": "code",
   "execution_count": 20,
   "id": "8d763d63",
   "metadata": {
    "execution": {
     "iopub.execute_input": "2023-04-24T03:31:49.531129Z",
     "iopub.status.busy": "2023-04-24T03:31:49.530662Z",
     "iopub.status.idle": "2023-04-24T03:31:49.551558Z",
     "shell.execute_reply": "2023-04-24T03:31:49.550491Z"
    },
    "papermill": {
     "duration": 0.046897,
     "end_time": "2023-04-24T03:31:49.553838",
     "exception": false,
     "start_time": "2023-04-24T03:31:49.506941",
     "status": "completed"
    },
    "tags": []
   },
   "outputs": [
    {
     "data": {
      "text/html": [
       "<div>\n",
       "<style scoped>\n",
       "    .dataframe tbody tr th:only-of-type {\n",
       "        vertical-align: middle;\n",
       "    }\n",
       "\n",
       "    .dataframe tbody tr th {\n",
       "        vertical-align: top;\n",
       "    }\n",
       "\n",
       "    .dataframe thead th {\n",
       "        text-align: right;\n",
       "    }\n",
       "</style>\n",
       "<table border=\"1\" class=\"dataframe\">\n",
       "  <thead>\n",
       "    <tr style=\"text-align: right;\">\n",
       "      <th></th>\n",
       "      <th>Total Children</th>\n",
       "      <th>Number of Children At Home</th>\n",
       "      <th>Average of Car</th>\n",
       "      <th>Store Area</th>\n",
       "      <th>Has Coffee Bar</th>\n",
       "      <th>Has Entertainment</th>\n",
       "      <th>Has Salad Bar</th>\n",
       "      <th>Has Prepared Food</th>\n",
       "      <th>Has Florist</th>\n",
       "      <th>Cost</th>\n",
       "      <th>Children_Ratio</th>\n",
       "    </tr>\n",
       "  </thead>\n",
       "  <tbody>\n",
       "    <tr>\n",
       "      <th>0</th>\n",
       "      <td>2</td>\n",
       "      <td>2</td>\n",
       "      <td>2</td>\n",
       "      <td>36509</td>\n",
       "      <td>0</td>\n",
       "      <td>0</td>\n",
       "      <td>0</td>\n",
       "      <td>0</td>\n",
       "      <td>0</td>\n",
       "      <td>62.09</td>\n",
       "      <td>1.0</td>\n",
       "    </tr>\n",
       "    <tr>\n",
       "      <th>1</th>\n",
       "      <td>4</td>\n",
       "      <td>0</td>\n",
       "      <td>3</td>\n",
       "      <td>28206</td>\n",
       "      <td>1</td>\n",
       "      <td>0</td>\n",
       "      <td>0</td>\n",
       "      <td>0</td>\n",
       "      <td>0</td>\n",
       "      <td>121.8</td>\n",
       "      <td>10.0</td>\n",
       "    </tr>\n",
       "    <tr>\n",
       "      <th>2</th>\n",
       "      <td>0</td>\n",
       "      <td>0</td>\n",
       "      <td>3</td>\n",
       "      <td>21215</td>\n",
       "      <td>1</td>\n",
       "      <td>0</td>\n",
       "      <td>0</td>\n",
       "      <td>0</td>\n",
       "      <td>0</td>\n",
       "      <td>83.51</td>\n",
       "      <td>0.0</td>\n",
       "    </tr>\n",
       "    <tr>\n",
       "      <th>3</th>\n",
       "      <td>5</td>\n",
       "      <td>0</td>\n",
       "      <td>0</td>\n",
       "      <td>21215</td>\n",
       "      <td>1</td>\n",
       "      <td>0</td>\n",
       "      <td>0</td>\n",
       "      <td>0</td>\n",
       "      <td>0</td>\n",
       "      <td>66.78</td>\n",
       "      <td>10.0</td>\n",
       "    </tr>\n",
       "    <tr>\n",
       "      <th>4</th>\n",
       "      <td>5</td>\n",
       "      <td>0</td>\n",
       "      <td>3</td>\n",
       "      <td>27694</td>\n",
       "      <td>1</td>\n",
       "      <td>1</td>\n",
       "      <td>1</td>\n",
       "      <td>1</td>\n",
       "      <td>1</td>\n",
       "      <td>111.51</td>\n",
       "      <td>10.0</td>\n",
       "    </tr>\n",
       "  </tbody>\n",
       "</table>\n",
       "</div>"
      ],
      "text/plain": [
       "   Total Children  Number of Children At Home  Average of Car  Store Area  \\\n",
       "0               2                           2               2       36509   \n",
       "1               4                           0               3       28206   \n",
       "2               0                           0               3       21215   \n",
       "3               5                           0               0       21215   \n",
       "4               5                           0               3       27694   \n",
       "\n",
       "   Has Coffee Bar  Has Entertainment  Has Salad Bar  Has Prepared Food  \\\n",
       "0               0                  0              0                  0   \n",
       "1               1                  0              0                  0   \n",
       "2               1                  0              0                  0   \n",
       "3               1                  0              0                  0   \n",
       "4               1                  1              1                  1   \n",
       "\n",
       "   Has Florist    Cost  Children_Ratio  \n",
       "0            0   62.09             1.0  \n",
       "1            0   121.8            10.0  \n",
       "2            0   83.51             0.0  \n",
       "3            0   66.78            10.0  \n",
       "4            1  111.51            10.0  "
      ]
     },
     "execution_count": 20,
     "metadata": {},
     "output_type": "execute_result"
    }
   ],
   "source": [
    "drop_columns={\n",
    "    'Has Recyclable Package',\n",
    "    'Has Low Fat',\n",
    "    #'Number of Children At Home', \n",
    "    'Units Per Case', \n",
    "    'Gross Weight', \n",
    "    'Store Sales(in millions)', \n",
    "    'Unit Sales(in millions)'\n",
    "}\n",
    "train = train.drop(columns=drop_columns)\n",
    "train.head(5)"
   ]
  },
  {
   "cell_type": "code",
   "execution_count": 21,
   "id": "a9282e05",
   "metadata": {
    "execution": {
     "iopub.execute_input": "2023-04-24T03:31:49.602739Z",
     "iopub.status.busy": "2023-04-24T03:31:49.601563Z",
     "iopub.status.idle": "2023-04-24T03:31:49.661442Z",
     "shell.execute_reply": "2023-04-24T03:31:49.660541Z"
    },
    "papermill": {
     "duration": 0.086194,
     "end_time": "2023-04-24T03:31:49.663656",
     "exception": false,
     "start_time": "2023-04-24T03:31:49.577462",
     "status": "completed"
    },
    "tags": []
   },
   "outputs": [
    {
     "data": {
      "text/plain": [
       "Total Children                  Int64\n",
       "Number of Children At Home      Int64\n",
       "Average of Car                  Int64\n",
       "Cost                          Float64\n",
       "Children_Ratio                Float64\n",
       "Store Area_20319                 bool\n",
       "Store Area_21215                 bool\n",
       "Store Area_22478                 bool\n",
       "Store Area_23112                 bool\n",
       "Store Area_23593                 bool\n",
       "Store Area_23598                 bool\n",
       "Store Area_23688                 bool\n",
       "Store Area_23759                 bool\n",
       "Store Area_24597                 bool\n",
       "Store Area_27694                 bool\n",
       "Store Area_28206                 bool\n",
       "Store Area_30268                 bool\n",
       "Store Area_30584                 bool\n",
       "Store Area_30797                 bool\n",
       "Store Area_33858                 bool\n",
       "Store Area_34452                 bool\n",
       "Store Area_34791                 bool\n",
       "Store Area_36509                 bool\n",
       "Store Area_38382                 bool\n",
       "Store Area_39696                 bool\n",
       "Has Coffee Bar_0                 bool\n",
       "Has Coffee Bar_1                 bool\n",
       "Has Entertainment_0              bool\n",
       "Has Entertainment_1              bool\n",
       "Has Salad Bar_0                  bool\n",
       "Has Salad Bar_1                  bool\n",
       "Has Prepared Food_0              bool\n",
       "Has Prepared Food_1              bool\n",
       "Has Florist_0                    bool\n",
       "Has Florist_1                    bool\n",
       "dtype: object"
      ]
     },
     "execution_count": 21,
     "metadata": {},
     "output_type": "execute_result"
    }
   ],
   "source": [
    "oneHotCode_columns = [\n",
    "    #'Number of Children',\n",
    "    #'Average of Car',\n",
    "    'Store Area',\n",
    "    'Has Coffee Bar',\n",
    "    'Has Entertainment',\n",
    "    'Has Salad Bar',\n",
    "    'Has Prepared Food',\n",
    "    'Has Florist'\n",
    "]\n",
    "train_oneHotCode = pd.get_dummies(train,columns=oneHotCode_columns)\n",
    "train_oneHotCode.dtypes"
   ]
  },
  {
   "cell_type": "markdown",
   "id": "933e09fe",
   "metadata": {
    "papermill": {
     "duration": 0.022489,
     "end_time": "2023-04-24T03:31:49.709474",
     "exception": false,
     "start_time": "2023-04-24T03:31:49.686985",
     "status": "completed"
    },
    "tags": []
   },
   "source": [
    "\n",
    "### <p style=\"font-family:JetBrains Mono; font-weight:bold; letter-spacing: 2px; color:#006600; font-size:140%; text-align:left;padding: 0px; border-bottom: 3px solid #003300\">3. Baseline modeling with Linear Regression</p>"
   ]
  },
  {
   "cell_type": "markdown",
   "id": "ee52a434",
   "metadata": {
    "papermill": {
     "duration": 0.023572,
     "end_time": "2023-04-24T03:31:49.758063",
     "exception": false,
     "start_time": "2023-04-24T03:31:49.734491",
     "status": "completed"
    },
    "tags": []
   },
   "source": [
    "**split the train dataset for cross valiation**"
   ]
  },
  {
   "cell_type": "code",
   "execution_count": 22,
   "id": "9242fa12",
   "metadata": {
    "execution": {
     "iopub.execute_input": "2023-04-24T03:31:49.805919Z",
     "iopub.status.busy": "2023-04-24T03:31:49.805467Z",
     "iopub.status.idle": "2023-04-24T03:31:49.906867Z",
     "shell.execute_reply": "2023-04-24T03:31:49.905521Z"
    },
    "papermill": {
     "duration": 0.128798,
     "end_time": "2023-04-24T03:31:49.909863",
     "exception": false,
     "start_time": "2023-04-24T03:31:49.781065",
     "status": "completed"
    },
    "tags": []
   },
   "outputs": [],
   "source": [
    "x_linear = train_oneHotCode.drop(columns=['Cost'])\n",
    "y_linear = train_oneHotCode['Cost']\n",
    "x_train,x_test,y_train,y_test=train_test_split(x_linear, y_linear, test_size=0.3, random_state=7)"
   ]
  },
  {
   "cell_type": "markdown",
   "id": "18be5320",
   "metadata": {
    "papermill": {
     "duration": 0.023004,
     "end_time": "2023-04-24T03:31:49.955971",
     "exception": false,
     "start_time": "2023-04-24T03:31:49.932967",
     "status": "completed"
    },
    "tags": []
   },
   "source": [
    "**Training and predict**"
   ]
  },
  {
   "cell_type": "code",
   "execution_count": 23,
   "id": "a1bee5db",
   "metadata": {
    "execution": {
     "iopub.execute_input": "2023-04-24T03:31:50.004581Z",
     "iopub.status.busy": "2023-04-24T03:31:50.004125Z",
     "iopub.status.idle": "2023-04-24T03:31:50.603657Z",
     "shell.execute_reply": "2023-04-24T03:31:50.602028Z"
    },
    "papermill": {
     "duration": 0.629251,
     "end_time": "2023-04-24T03:31:50.608713",
     "exception": false,
     "start_time": "2023-04-24T03:31:49.979462",
     "status": "completed"
    },
    "tags": []
   },
   "outputs": [],
   "source": [
    "reg_model = LinearRegression().fit(x_train,y_train)\n",
    "train_predict = reg_model.predict(x_train)\n",
    "test_predict = reg_model.predict(x_test)"
   ]
  },
  {
   "cell_type": "markdown",
   "id": "8e413016",
   "metadata": {
    "papermill": {
     "duration": 0.056994,
     "end_time": "2023-04-24T03:31:50.722729",
     "exception": false,
     "start_time": "2023-04-24T03:31:50.665735",
     "status": "completed"
    },
    "tags": []
   },
   "source": [
    "**Evaluation**</br>\n",
    "***1.Train data error***"
   ]
  },
  {
   "cell_type": "code",
   "execution_count": 24,
   "id": "67ea781d",
   "metadata": {
    "execution": {
     "iopub.execute_input": "2023-04-24T03:31:50.772428Z",
     "iopub.status.busy": "2023-04-24T03:31:50.771989Z",
     "iopub.status.idle": "2023-04-24T03:31:50.812158Z",
     "shell.execute_reply": "2023-04-24T03:31:50.810751Z"
    },
    "papermill": {
     "duration": 0.069484,
     "end_time": "2023-04-24T03:31:50.816598",
     "exception": false,
     "start_time": "2023-04-24T03:31:50.747114",
     "status": "completed"
    },
    "tags": []
   },
   "outputs": [
    {
     "name": "stdout",
     "output_type": "stream",
     "text": [
      "RMSLE: 0.310\n"
     ]
    },
    {
     "name": "stderr",
     "output_type": "stream",
     "text": [
      "c:\\Users\\sonis\\AppData\\Local\\Programs\\Python\\Python312\\Lib\\site-packages\\sklearn\\metrics\\_regression.py:666: FutureWarning: 'squared' is deprecated in version 1.4 and will be removed in 1.6. To calculate the root mean squared logarithmic error, use the function'root_mean_squared_log_error'.\n",
      "  warnings.warn(\n"
     ]
    }
   ],
   "source": [
    "#rmse = mean_squared_error(y_train, train_pred, squared=False)\n",
    "rmsle = mean_squared_log_error(y_train, train_predict,squared=False)\n",
    "#print(\"Train Set--RMSE: {:.3f}\".format(rmse))\n",
    "print(\"RMSLE: {:.3f}\".format(rmsle))"
   ]
  },
  {
   "cell_type": "markdown",
   "id": "750e2bb6",
   "metadata": {
    "papermill": {
     "duration": 0.023454,
     "end_time": "2023-04-24T03:31:50.863685",
     "exception": false,
     "start_time": "2023-04-24T03:31:50.840231",
     "status": "completed"
    },
    "tags": []
   },
   "source": [
    "**2. Cross valiation data error**"
   ]
  },
  {
   "cell_type": "code",
   "execution_count": 25,
   "id": "e9962255",
   "metadata": {
    "execution": {
     "iopub.execute_input": "2023-04-24T03:31:50.912885Z",
     "iopub.status.busy": "2023-04-24T03:31:50.911931Z",
     "iopub.status.idle": "2023-04-24T03:31:50.936222Z",
     "shell.execute_reply": "2023-04-24T03:31:50.934516Z"
    },
    "papermill": {
     "duration": 0.052874,
     "end_time": "2023-04-24T03:31:50.939822",
     "exception": false,
     "start_time": "2023-04-24T03:31:50.886948",
     "status": "completed"
    },
    "tags": []
   },
   "outputs": [
    {
     "name": "stdout",
     "output_type": "stream",
     "text": [
      "RMSLE: 0.310\n"
     ]
    },
    {
     "name": "stderr",
     "output_type": "stream",
     "text": [
      "c:\\Users\\sonis\\AppData\\Local\\Programs\\Python\\Python312\\Lib\\site-packages\\sklearn\\metrics\\_regression.py:666: FutureWarning: 'squared' is deprecated in version 1.4 and will be removed in 1.6. To calculate the root mean squared logarithmic error, use the function'root_mean_squared_log_error'.\n",
      "  warnings.warn(\n"
     ]
    }
   ],
   "source": [
    "#rmse = mean_squared_error(y_test_linear, y_predict_linear, squared=False)\n",
    "rmsle = mean_squared_log_error(y_test, test_predict,squared=False)\n",
    "#print(\"RMSE: {:.3f}\".format(rmse))\n",
    "print(\"RMSLE: {:.3f}\".format(rmsle))"
   ]
  },
  {
   "cell_type": "markdown",
   "id": "15653bf4",
   "metadata": {
    "papermill": {
     "duration": 0.023899,
     "end_time": "2023-04-24T03:31:50.986834",
     "exception": false,
     "start_time": "2023-04-24T03:31:50.962935",
     "status": "completed"
    },
    "tags": []
   },
   "source": [
    "<div style=\"border-radius:10px; border:#DEB887 solid; padding: 15px; background-color: #FFFAF0; font-size:100%; text-align:left\">\n",
    "\n",
    "<h3 align=\"left\"><font color='#DEB887'>Insights:</font></h3>\n",
    "\n",
    "**Baseline Linear Regression with RMSLE of 0.31**"
   ]
  },
  {
   "cell_type": "markdown",
   "id": "5aab864b",
   "metadata": {
    "papermill": {
     "duration": 0.022949,
     "end_time": "2023-04-24T03:31:51.034531",
     "exception": false,
     "start_time": "2023-04-24T03:31:51.011582",
     "status": "completed"
    },
    "tags": []
   },
   "source": [
    "\n",
    "### <p style=\"font-family:JetBrains Mono; font-weight:bold; letter-spacing: 2px; color:#006600; font-size:140%; text-align:left;padding: 0px; border-bottom: 3px solid #003300\">4. XGBOOST</p>"
   ]
  },
  {
   "cell_type": "code",
   "execution_count": 27,
   "id": "bd32dba3",
   "metadata": {
    "execution": {
     "iopub.execute_input": "2023-04-24T03:31:51.083928Z",
     "iopub.status.busy": "2023-04-24T03:31:51.082636Z",
     "iopub.status.idle": "2023-04-24T03:31:51.125411Z",
     "shell.execute_reply": "2023-04-24T03:31:51.124361Z"
    },
    "papermill": {
     "duration": 0.070504,
     "end_time": "2023-04-24T03:31:51.128137",
     "exception": false,
     "start_time": "2023-04-24T03:31:51.057633",
     "status": "completed"
    },
    "tags": []
   },
   "outputs": [],
   "source": [
    "train_xgb = pd.get_dummies(train,columns=['Has Coffee Bar','Has Entertainment','Has Salad Bar','Has Prepared Food','Has Florist'])"
   ]
  },
  {
   "cell_type": "code",
   "execution_count": 28,
   "id": "c6b89ce7",
   "metadata": {
    "execution": {
     "iopub.execute_input": "2023-04-24T03:31:51.176455Z",
     "iopub.status.busy": "2023-04-24T03:31:51.176015Z",
     "iopub.status.idle": "2023-04-24T03:31:51.185042Z",
     "shell.execute_reply": "2023-04-24T03:31:51.183953Z"
    },
    "papermill": {
     "duration": 0.03598,
     "end_time": "2023-04-24T03:31:51.187226",
     "exception": false,
     "start_time": "2023-04-24T03:31:51.151246",
     "status": "completed"
    },
    "tags": []
   },
   "outputs": [
    {
     "data": {
      "text/plain": [
       "Total Children                  Int64\n",
       "Number of Children At Home      Int64\n",
       "Average of Car                  Int64\n",
       "Store Area                      Int64\n",
       "Cost                          Float64\n",
       "Children_Ratio                Float64\n",
       "Has Coffee Bar_0                uint8\n",
       "Has Coffee Bar_1                uint8\n",
       "Has Entertainment_0             uint8\n",
       "Has Entertainment_1             uint8\n",
       "Has Salad Bar_0                 uint8\n",
       "Has Salad Bar_1                 uint8\n",
       "Has Prepared Food_0             uint8\n",
       "Has Prepared Food_1             uint8\n",
       "Has Florist_0                   uint8\n",
       "Has Florist_1                   uint8\n",
       "dtype: object"
      ]
     },
     "execution_count": 28,
     "metadata": {},
     "output_type": "execute_result"
    }
   ],
   "source": [
    "train_xgb.dtypes"
   ]
  },
  {
   "cell_type": "code",
   "execution_count": 28,
   "id": "28160ca1",
   "metadata": {
    "execution": {
     "iopub.execute_input": "2023-04-24T03:31:51.236315Z",
     "iopub.status.busy": "2023-04-24T03:31:51.235550Z",
     "iopub.status.idle": "2023-04-24T03:31:51.241879Z",
     "shell.execute_reply": "2023-04-24T03:31:51.240994Z"
    },
    "papermill": {
     "duration": 0.033413,
     "end_time": "2023-04-24T03:31:51.244279",
     "exception": false,
     "start_time": "2023-04-24T03:31:51.210866",
     "status": "completed"
    },
    "tags": []
   },
   "outputs": [],
   "source": [
    "train_xgb['Children_Ratio'] = train_xgb['Children_Ratio'].astype('float')"
   ]
  },
  {
   "cell_type": "code",
   "execution_count": 30,
   "id": "4908a994",
   "metadata": {
    "execution": {
     "iopub.execute_input": "2023-04-24T03:31:51.293690Z",
     "iopub.status.busy": "2023-04-24T03:31:51.292951Z",
     "iopub.status.idle": "2023-04-24T03:31:51.300828Z",
     "shell.execute_reply": "2023-04-24T03:31:51.299749Z"
    },
    "papermill": {
     "duration": 0.035743,
     "end_time": "2023-04-24T03:31:51.303498",
     "exception": false,
     "start_time": "2023-04-24T03:31:51.267755",
     "status": "completed"
    },
    "tags": []
   },
   "outputs": [
    {
     "data": {
      "text/plain": [
       "Total Children                  Int64\n",
       "Number of Children At Home      Int64\n",
       "Average of Car                  Int64\n",
       "Store Area                      Int64\n",
       "Cost                          Float64\n",
       "Children_Ratio                float64\n",
       "Has Coffee Bar_0                uint8\n",
       "Has Coffee Bar_1                uint8\n",
       "Has Entertainment_0             uint8\n",
       "Has Entertainment_1             uint8\n",
       "Has Salad Bar_0                 uint8\n",
       "Has Salad Bar_1                 uint8\n",
       "Has Prepared Food_0             uint8\n",
       "Has Prepared Food_1             uint8\n",
       "Has Florist_0                   uint8\n",
       "Has Florist_1                   uint8\n",
       "dtype: object"
      ]
     },
     "execution_count": 30,
     "metadata": {},
     "output_type": "execute_result"
    }
   ],
   "source": [
    "train_xgb.dtypes"
   ]
  },
  {
   "cell_type": "code",
   "execution_count": 29,
   "id": "3e58ddde",
   "metadata": {
    "execution": {
     "iopub.execute_input": "2023-04-24T03:31:51.353556Z",
     "iopub.status.busy": "2023-04-24T03:31:51.352892Z",
     "iopub.status.idle": "2023-04-24T03:31:51.380678Z",
     "shell.execute_reply": "2023-04-24T03:31:51.379772Z"
    },
    "papermill": {
     "duration": 0.055606,
     "end_time": "2023-04-24T03:31:51.383327",
     "exception": false,
     "start_time": "2023-04-24T03:31:51.327721",
     "status": "completed"
    },
    "tags": []
   },
   "outputs": [],
   "source": [
    "X = train_xgb.drop(columns='Cost').copy()\n",
    "y = train_xgb['Cost'].copy()"
   ]
  },
  {
   "cell_type": "code",
   "execution_count": 30,
   "id": "4c8d5ff8",
   "metadata": {
    "execution": {
     "iopub.execute_input": "2023-04-24T03:31:51.435805Z",
     "iopub.status.busy": "2023-04-24T03:31:51.435378Z",
     "iopub.status.idle": "2023-04-24T03:31:51.441154Z",
     "shell.execute_reply": "2023-04-24T03:31:51.439727Z"
    },
    "papermill": {
     "duration": 0.036114,
     "end_time": "2023-04-24T03:31:51.443723",
     "exception": false,
     "start_time": "2023-04-24T03:31:51.407609",
     "status": "completed"
    },
    "tags": []
   },
   "outputs": [],
   "source": [
    "xgb_params = {'objective': 'reg:squarederror',\n",
    "              'eval_metric': 'rmse',\n",
    "              'learning_rate': 0.05,\n",
    "              'max_depth': 8,\n",
    "              'tree_method': 'hist',\n",
    "              'subsample': 1.0,\n",
    "              'colsample_bytree': 1.0,\n",
    "              'verbosity': 0,\n",
    "              'random_state': 42\n",
    "             }"
   ]
  },
  {
   "cell_type": "code",
   "execution_count": 31,
   "id": "bcadaf7e",
   "metadata": {
    "execution": {
     "iopub.execute_input": "2023-04-24T03:31:51.493073Z",
     "iopub.status.busy": "2023-04-24T03:31:51.492256Z",
     "iopub.status.idle": "2023-04-24T03:32:29.486182Z",
     "shell.execute_reply": "2023-04-24T03:32:29.485040Z"
    },
    "papermill": {
     "duration": 38.022065,
     "end_time": "2023-04-24T03:32:29.488927",
     "exception": false,
     "start_time": "2023-04-24T03:31:51.466862",
     "status": "completed"
    },
    "tags": []
   },
   "outputs": [
    {
     "name": "stderr",
     "output_type": "stream",
     "text": [
      "c:\\Users\\sonis\\AppData\\Local\\Programs\\Python\\Python312\\Lib\\site-packages\\sklearn\\metrics\\_regression.py:666: FutureWarning: 'squared' is deprecated in version 1.4 and will be removed in 1.6. To calculate the root mean squared logarithmic error, use the function'root_mean_squared_log_error'.\n",
      "  warnings.warn(\n"
     ]
    },
    {
     "name": "stdout",
     "output_type": "stream",
     "text": [
      "rmsle: 0.29818377938077195\n"
     ]
    },
    {
     "name": "stderr",
     "output_type": "stream",
     "text": [
      "c:\\Users\\sonis\\AppData\\Local\\Programs\\Python\\Python312\\Lib\\site-packages\\sklearn\\metrics\\_regression.py:666: FutureWarning: 'squared' is deprecated in version 1.4 and will be removed in 1.6. To calculate the root mean squared logarithmic error, use the function'root_mean_squared_log_error'.\n",
      "  warnings.warn(\n"
     ]
    },
    {
     "name": "stdout",
     "output_type": "stream",
     "text": [
      "rmsle: 0.29988211371929996\n"
     ]
    },
    {
     "name": "stderr",
     "output_type": "stream",
     "text": [
      "c:\\Users\\sonis\\AppData\\Local\\Programs\\Python\\Python312\\Lib\\site-packages\\sklearn\\metrics\\_regression.py:666: FutureWarning: 'squared' is deprecated in version 1.4 and will be removed in 1.6. To calculate the root mean squared logarithmic error, use the function'root_mean_squared_log_error'.\n",
      "  warnings.warn(\n"
     ]
    },
    {
     "name": "stdout",
     "output_type": "stream",
     "text": [
      "rmsle: 0.2991052272256688\n"
     ]
    },
    {
     "name": "stderr",
     "output_type": "stream",
     "text": [
      "c:\\Users\\sonis\\AppData\\Local\\Programs\\Python\\Python312\\Lib\\site-packages\\sklearn\\metrics\\_regression.py:666: FutureWarning: 'squared' is deprecated in version 1.4 and will be removed in 1.6. To calculate the root mean squared logarithmic error, use the function'root_mean_squared_log_error'.\n",
      "  warnings.warn(\n"
     ]
    },
    {
     "name": "stdout",
     "output_type": "stream",
     "text": [
      "rmsle: 0.29802711481353134\n"
     ]
    },
    {
     "name": "stderr",
     "output_type": "stream",
     "text": [
      "c:\\Users\\sonis\\AppData\\Local\\Programs\\Python\\Python312\\Lib\\site-packages\\sklearn\\metrics\\_regression.py:666: FutureWarning: 'squared' is deprecated in version 1.4 and will be removed in 1.6. To calculate the root mean squared logarithmic error, use the function'root_mean_squared_log_error'.\n",
      "  warnings.warn(\n"
     ]
    },
    {
     "name": "stdout",
     "output_type": "stream",
     "text": [
      "rmsle: 0.2998603332108428\n"
     ]
    },
    {
     "name": "stderr",
     "output_type": "stream",
     "text": [
      "c:\\Users\\sonis\\AppData\\Local\\Programs\\Python\\Python312\\Lib\\site-packages\\sklearn\\metrics\\_regression.py:666: FutureWarning: 'squared' is deprecated in version 1.4 and will be removed in 1.6. To calculate the root mean squared logarithmic error, use the function'root_mean_squared_log_error'.\n",
      "  warnings.warn(\n"
     ]
    },
    {
     "name": "stdout",
     "output_type": "stream",
     "text": [
      "rmsle: 0.2997934466848519\n"
     ]
    },
    {
     "name": "stderr",
     "output_type": "stream",
     "text": [
      "c:\\Users\\sonis\\AppData\\Local\\Programs\\Python\\Python312\\Lib\\site-packages\\sklearn\\metrics\\_regression.py:666: FutureWarning: 'squared' is deprecated in version 1.4 and will be removed in 1.6. To calculate the root mean squared logarithmic error, use the function'root_mean_squared_log_error'.\n",
      "  warnings.warn(\n"
     ]
    },
    {
     "name": "stdout",
     "output_type": "stream",
     "text": [
      "rmsle: 0.2987508510059975\n"
     ]
    },
    {
     "name": "stderr",
     "output_type": "stream",
     "text": [
      "c:\\Users\\sonis\\AppData\\Local\\Programs\\Python\\Python312\\Lib\\site-packages\\sklearn\\metrics\\_regression.py:666: FutureWarning: 'squared' is deprecated in version 1.4 and will be removed in 1.6. To calculate the root mean squared logarithmic error, use the function'root_mean_squared_log_error'.\n",
      "  warnings.warn(\n"
     ]
    },
    {
     "name": "stdout",
     "output_type": "stream",
     "text": [
      "rmsle: 0.2999264214490086\n"
     ]
    },
    {
     "name": "stderr",
     "output_type": "stream",
     "text": [
      "c:\\Users\\sonis\\AppData\\Local\\Programs\\Python\\Python312\\Lib\\site-packages\\sklearn\\metrics\\_regression.py:666: FutureWarning: 'squared' is deprecated in version 1.4 and will be removed in 1.6. To calculate the root mean squared logarithmic error, use the function'root_mean_squared_log_error'.\n",
      "  warnings.warn(\n"
     ]
    },
    {
     "name": "stdout",
     "output_type": "stream",
     "text": [
      "rmsle: 0.29878666516793434\n",
      "rmsle: 0.3000579695986499\n",
      "The average RMSLE is: 0.2992373922256557\n"
     ]
    },
    {
     "name": "stderr",
     "output_type": "stream",
     "text": [
      "c:\\Users\\sonis\\AppData\\Local\\Programs\\Python\\Python312\\Lib\\site-packages\\sklearn\\metrics\\_regression.py:666: FutureWarning: 'squared' is deprecated in version 1.4 and will be removed in 1.6. To calculate the root mean squared logarithmic error, use the function'root_mean_squared_log_error'.\n",
      "  warnings.warn(\n"
     ]
    }
   ],
   "source": [
    "cv_scores = list()\n",
    "loglosses = []\n",
    "fold=0\n",
    "kf = KFold(n_splits=10, shuffle = True, random_state = 7)\n",
    "for train_index, test_index in kf.split(X):\n",
    "    X_train, X_test = X.iloc[train_index], X.iloc[test_index]\n",
    "    y_train, y_test = y.iloc[train_index], y.iloc[test_index]\n",
    "    xgb_model =  xgb.XGBRegressor(**xgb_params)\n",
    "    preds = xgb_model.fit(X_train, y_train)\n",
    "    \n",
    "    xgb_pred_1 = xgb_model.predict(X_test)\n",
    "    #xgb_pred_2 = xgb_model.predict(test)\n",
    "    rmsle = mean_squared_log_error(y_test, xgb_pred_1, squared = False)\n",
    "    print(\"rmsle:\",rmsle)\n",
    "    cv_scores.append(rmsle)\n",
    "scores = np.mean(cv_scores) \n",
    "print('The average RMSLE is:', scores)"
   ]
  },
  {
   "cell_type": "code",
   "execution_count": 32,
   "id": "4931750e",
   "metadata": {
    "execution": {
     "iopub.execute_input": "2023-04-24T03:32:29.540772Z",
     "iopub.status.busy": "2023-04-24T03:32:29.540266Z",
     "iopub.status.idle": "2023-04-24T03:32:29.817968Z",
     "shell.execute_reply": "2023-04-24T03:32:29.816669Z"
    },
    "papermill": {
     "duration": 0.307351,
     "end_time": "2023-04-24T03:32:29.820964",
     "exception": false,
     "start_time": "2023-04-24T03:32:29.513613",
     "status": "completed"
    },
    "tags": []
   },
   "outputs": [
    {
     "data": {
      "image/png": "[encoded data removed]",
      "text/plain": [
       "<Figure size 640x480 with 1 Axes>"
      ]
     },
     "metadata": {},
     "output_type": "display_data"
    }
   ],
   "source": [
    "plot_importance(xgb_model)\n",
    "plt.show()"
   ]
  },
  {
   "cell_type": "markdown",
   "id": "2883bfe7",
   "metadata": {
    "papermill": {
     "duration": 0.025497,
     "end_time": "2023-04-24T03:32:29.872362",
     "exception": false,
     "start_time": "2023-04-24T03:32:29.846865",
     "status": "completed"
    },
    "tags": []
   },
   "source": [
    "<div style=\"border-radius:10px; border:#DEB887 solid; padding: 15px; background-color: #FFFAF0; font-size:100%; text-align:left\">\n",
    "\n",
    "<h3 align=\"left\"><font color='#DEB887'>✔️ Conclusion:</font></h3>\n",
    "    \n",
    "**The average RMSLE in Train is: 0.29829686014426826 improve by XGBoost**"
   ]
  }
 ],
 "metadata": {
  "kernelspec": {
   "display_name": "Python 3",
   "language": "python",
   "name": "python3"
  },
  "language_info": {
   "codemirror_mode": {
    "name": "ipython",
    "version": 3
   },
   "file_extension": ".py",
   "mimetype": "text/x-python",
   "name": "python",
   "nbconvert_exporter": "python",
   "pygments_lexer": "ipython3",
   "version": "3.12.1"
  },
  "papermill": {
   "default_parameters": {},
   "duration": 86.716988,
   "end_time": "2023-04-24T03:32:30.823375",
   "environment_variables": {},
   "exception": null,
   "input_path": "__notebook__.ipynb",
   "output_path": "__notebook__.ipynb",
   "parameters": {},
   "start_time": "2023-04-24T03:31:04.106387",
   "version": "2.4.0"
  }
 },
 "nbformat": 4,
 "nbformat_minor": 5
}
